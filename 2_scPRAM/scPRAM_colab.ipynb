{
  "nbformat": 4,
  "nbformat_minor": 0,
  "metadata": {
    "colab": {
      "provenance": [],
      "gpuType": "T4"
    },
    "kernelspec": {
      "name": "python3",
      "display_name": "Python 3"
    },
    "language_info": {
      "name": "python"
    },
    "accelerator": "GPU"
  },
  "cells": [
    {
      "cell_type": "code",
      "source": [
        "# 1️⃣ Install Conda in Colab\n",
        "!pip install -q condacolab\n",
        "import condacolab\n",
        "condacolab.install()"
      ],
      "metadata": {
        "colab": {
          "base_uri": "https://localhost:8080/"
        },
        "id": "qn050rbNgHJc",
        "outputId": "8e80068b-bdaf-4a2a-8d6a-4a2ad200263e"
      },
      "execution_count": 1,
      "outputs": [
        {
          "output_type": "stream",
          "name": "stdout",
          "text": [
            "⏬ Downloading https://github.com/jaimergp/miniforge/releases/download/24.11.2-1_colab/Miniforge3-colab-24.11.2-1_colab-Linux-x86_64.sh...\n",
            "📦 Installing...\n",
            "📌 Adjusting configuration...\n",
            "🩹 Patching environment...\n",
            "⏲ Done in 0:00:12\n",
            "🔁 Restarting kernel...\n"
          ]
        }
      ]
    },
    {
      "cell_type": "code",
      "source": [
        "# 2️⃣ Create scPRAM env with python 3.8 (from GitHub)\n",
        "# Note: use mamba because it's faster and avoids conflicts\n",
        "!mamba create -y -n scPRAM python=3.8\n"
      ],
      "metadata": {
        "colab": {
          "base_uri": "https://localhost:8080/"
        },
        "id": "PJt-yG8RgS9Q",
        "outputId": "14ddd97a-990f-4e1e-805d-8a90e37f49f2"
      },
      "execution_count": 2,
      "outputs": [
        {
          "output_type": "stream",
          "name": "stdout",
          "text": [
            "\n",
            "Looking for: ['python=3.8']\n",
            "\n",
            "\u001b[?25l\u001b[2K\u001b[0G[+] 0.0s\n",
            "conda-forge/linux-64  ⣾  \n",
            "conda-forge/noarch    ⣾  \u001b[2K\u001b[1A\u001b[2K\u001b[1A\u001b[2K\u001b[0G[+] 0.1s\n",
            "conda-forge/linux-64  ⣾  \n",
            "conda-forge/noarch    ⣾  \u001b[2K\u001b[1A\u001b[2K\u001b[1A\u001b[2K\u001b[0G[+] 0.2s\n",
            "conda-forge/linux-64   5%\n",
            "conda-forge/noarch     7%\u001b[2K\u001b[1A\u001b[2K\u001b[1A\u001b[2K\u001b[0G[+] 0.3s\n",
            "conda-forge/linux-64  12%\n",
            "conda-forge/noarch    22%\u001b[2K\u001b[1A\u001b[2K\u001b[1A\u001b[2K\u001b[0G[+] 0.4s\n",
            "conda-forge/linux-64  18%\n",
            "conda-forge/noarch    34%\u001b[2K\u001b[1A\u001b[2K\u001b[1A\u001b[2K\u001b[0G[+] 0.5s\n",
            "conda-forge/linux-64  22%\n",
            "conda-forge/noarch    43%\u001b[2K\u001b[1A\u001b[2K\u001b[1A\u001b[2K\u001b[0G[+] 0.6s\n",
            "conda-forge/linux-64  28%\n",
            "conda-forge/noarch    54%\u001b[2K\u001b[1A\u001b[2K\u001b[1A\u001b[2K\u001b[0G[+] 0.7s\n",
            "conda-forge/linux-64  33%\n",
            "conda-forge/noarch    61%\u001b[2K\u001b[1A\u001b[2K\u001b[1A\u001b[2K\u001b[0G[+] 0.8s\n",
            "conda-forge/linux-64  35%\n",
            "conda-forge/noarch    71%\u001b[2K\u001b[1A\u001b[2K\u001b[1A\u001b[2K\u001b[0G[+] 0.9s\n",
            "conda-forge/linux-64  41%\n",
            "conda-forge/noarch    84%\u001b[2K\u001b[1A\u001b[2K\u001b[1A\u001b[2K\u001b[0G[+] 1.0s\n",
            "conda-forge/linux-64  46%\n",
            "conda-forge/noarch    94%\u001b[2K\u001b[1A\u001b[2K\u001b[1A\u001b[2K\u001b[0Gconda-forge/noarch                                \n",
            "[+] 1.1s\n",
            "conda-forge/linux-64  52%\u001b[2K\u001b[1A\u001b[2K\u001b[0G[+] 1.2s\n",
            "conda-forge/linux-64  55%\u001b[2K\u001b[1A\u001b[2K\u001b[0G[+] 1.3s\n",
            "conda-forge/linux-64  64%\u001b[2K\u001b[1A\u001b[2K\u001b[0G[+] 1.4s\n",
            "conda-forge/linux-64  71%\u001b[2K\u001b[1A\u001b[2K\u001b[0G[+] 1.5s\n",
            "conda-forge/linux-64  78%\u001b[2K\u001b[1A\u001b[2K\u001b[0G[+] 1.6s\n",
            "conda-forge/linux-64  90%\u001b[2K\u001b[1A\u001b[2K\u001b[0Gconda-forge/linux-64                              \n",
            "\u001b[?25hTransaction\n",
            "\n",
            "  Prefix: /usr/local/envs/scPRAM\n",
            "\n",
            "  Updating specs:\n",
            "\n",
            "   - python=3.8\n",
            "\n",
            "\n",
            "  Package               Version  Build               Channel           Size\n",
            "─────────────────────────────────────────────────────────────────────────────\n",
            "  Install:\n",
            "─────────────────────────────────────────────────────────────────────────────\n",
            "\n",
            "  \u001b[32m+ ca-certificates \u001b[0m  2025.6.15  hbd8a1cb_0          conda-forge      151kB\n",
            "  \u001b[32m+ _libgcc_mutex   \u001b[0m        0.1  conda_forge         conda-forge\u001b[32m     Cached\u001b[0m\n",
            "  \u001b[32m+ libgomp         \u001b[0m     15.1.0  h767d61c_2          conda-forge      453kB\n",
            "  \u001b[32m+ ld_impl_linux-64\u001b[0m       2.43  h1423503_5          conda-forge      671kB\n",
            "  \u001b[32m+ _openmp_mutex   \u001b[0m        4.5  2_gnu               conda-forge\u001b[32m     Cached\u001b[0m\n",
            "  \u001b[32m+ libgcc          \u001b[0m     15.1.0  h767d61c_2          conda-forge      829kB\n",
            "  \u001b[32m+ openssl         \u001b[0m      3.5.0  h7b32b05_1          conda-forge        3MB\n",
            "  \u001b[32m+ ncurses         \u001b[0m        6.5  h2d0b736_3          conda-forge      892kB\n",
            "  \u001b[32m+ libzlib         \u001b[0m      1.3.1  hb9d3cd8_2          conda-forge\u001b[32m     Cached\u001b[0m\n",
            "  \u001b[32m+ libnsl          \u001b[0m      2.0.1  hb9d3cd8_1          conda-forge       34kB\n",
            "  \u001b[32m+ libgcc-ng       \u001b[0m     15.1.0  h69a702a_2          conda-forge       35kB\n",
            "  \u001b[32m+ liblzma         \u001b[0m      5.8.1  hb9d3cd8_2          conda-forge      113kB\n",
            "  \u001b[32m+ libffi          \u001b[0m      3.4.6  h2dba641_1          conda-forge       57kB\n",
            "  \u001b[32m+ readline        \u001b[0m        8.2  h8c095d6_2          conda-forge      282kB\n",
            "  \u001b[32m+ tk              \u001b[0m     8.6.13  noxft_hd72426e_102  conda-forge        3MB\n",
            "  \u001b[32m+ libsqlite       \u001b[0m     3.50.1  hee588c1_4          conda-forge      920kB\n",
            "  \u001b[32m+ libxcrypt       \u001b[0m     4.4.36  hd590300_1          conda-forge\u001b[32m     Cached\u001b[0m\n",
            "  \u001b[32m+ bzip2           \u001b[0m      1.0.8  h4bc722e_7          conda-forge\u001b[32m     Cached\u001b[0m\n",
            "  \u001b[32m+ libuuid         \u001b[0m     2.38.1  h0b41bf4_0          conda-forge\u001b[32m     Cached\u001b[0m\n",
            "  \u001b[32m+ xz-tools        \u001b[0m      5.8.1  hb9d3cd8_2          conda-forge       96kB\n",
            "  \u001b[32m+ xz-gpl-tools    \u001b[0m      5.8.1  hbcc6ac9_2          conda-forge       34kB\n",
            "  \u001b[32m+ liblzma-devel   \u001b[0m      5.8.1  hb9d3cd8_2          conda-forge      440kB\n",
            "  \u001b[32m+ xz              \u001b[0m      5.8.1  hbcc6ac9_2          conda-forge       24kB\n",
            "  \u001b[32m+ python          \u001b[0m     3.8.20  h4a871b0_2_cpython  conda-forge       22MB\n",
            "  \u001b[32m+ wheel           \u001b[0m     0.45.1  pyhd8ed1ab_0        conda-forge       63kB\n",
            "  \u001b[32m+ setuptools      \u001b[0m     75.3.0  pyhd8ed1ab_0        conda-forge      780kB\n",
            "  \u001b[32m+ pip             \u001b[0m     24.3.1  pyh8b19718_0        conda-forge        1MB\n",
            "\n",
            "  Summary:\n",
            "\n",
            "  Install: 27 packages\n",
            "\n",
            "  Total download: 36MB\n",
            "\n",
            "─────────────────────────────────────────────────────────────────────────────\n",
            "\n",
            "\n",
            "\u001b[?25l\u001b[2K\u001b[0G[+] 0.0s\n",
            "Downloading  (5)   0%\n",
            "Extracting         0%\u001b[2K\u001b[1A\u001b[2K\u001b[1A\u001b[2K\u001b[0G[+] 0.1s\n",
            "Downloading  (5)   0%\n",
            "Extracting         0%\u001b[2K\u001b[1A\u001b[2K\u001b[1A\u001b[2K\u001b[0Gca-certificates                                    151.1kB @   1.5MB/s  0.1s\n",
            "libgomp                                            452.6kB @   4.0MB/s  0.1s\n",
            "liblzma                                            112.9kB @ 800.1kB/s  0.0s\n",
            "ncurses                                            891.6kB @   6.2MB/s  0.0s\n",
            "ld_impl_linux-64                                   670.6kB @   4.5MB/s  0.1s\n",
            "libgcc                                             829.1kB @   5.6MB/s  0.2s\n",
            "openssl                                              3.1MB @  20.8MB/s  0.2s\n",
            "xz-gpl-tools                                        33.9kB @ 189.1kB/s  0.0s\n",
            "libgcc-ng                                           34.6kB @ 190.8kB/s  0.0s\n",
            "[+] 0.2s\n",
            "Downloading  (5)  26%\n",
            "Extracting   (9)  ⣾  \u001b[2K\u001b[1A\u001b[2K\u001b[1A\u001b[2K\u001b[0Gtk                                                   3.3MB @  16.0MB/s  0.1s\n",
            "liblzma-devel                                      439.9kB @   2.1MB/s  0.1s\n",
            "wheel                                               63.0kB @ 290.0kB/s  0.0s\n",
            "xz-tools                                            96.4kB @ 442.8kB/s  0.0s\n",
            "setuptools                                         779.6kB @   3.4MB/s  0.1s\n",
            "libffi                                              57.4kB @ 236.1kB/s  0.0s\n",
            "libnsl                                              33.7kB @ 137.8kB/s  0.0s\n",
            "readline                                           282.5kB @   1.1MB/s  0.0s\n",
            "xz                                                  24.0kB @  85.4kB/s  0.0s\n",
            "libsqlite                                          919.5kB @   3.2MB/s  0.1s\n",
            "pip                                                  1.2MB @   4.2MB/s  0.1s\n",
            "[+] 0.3s\n",
            "Downloading  (1)  39%\n",
            "Extracting  (16)  ⣾  \u001b[2K\u001b[1A\u001b[2K\u001b[1A\u001b[2K\u001b[0G[+] 0.4s\n",
            "Downloading  (1)  45%\n",
            "Extracting  (17)  ⣾  \u001b[2K\u001b[1A\u001b[2K\u001b[1A\u001b[2K\u001b[0G[+] 0.5s\n",
            "Downloading  (1)  56%\n",
            "Extracting  (16)  ⣾  \u001b[2K\u001b[1A\u001b[2K\u001b[1A\u001b[2K\u001b[0G[+] 0.6s\n",
            "Downloading  (1)  79%\n",
            "Extracting  (15)  ⣾  \u001b[2K\u001b[1A\u001b[2K\u001b[1A\u001b[2K\u001b[0Gpython                                              22.2MB @  35.5MB/s  0.4s\n",
            "[+] 0.7s\n",
            "Downloading      100%\n",
            "Extracting  (15)  ⣾  \u001b[2K\u001b[1A\u001b[2K\u001b[1A\u001b[2K\u001b[0G[+] 0.8s\n",
            "Downloading      100%\n",
            "Extracting  (14)  ⣾  \u001b[2K\u001b[1A\u001b[2K\u001b[1A\u001b[2K\u001b[0G[+] 0.9s\n",
            "Downloading      100%\n",
            "Extracting  (13)  ⣾  \u001b[2K\u001b[1A\u001b[2K\u001b[1A\u001b[2K\u001b[0G[+] 1.0s\n",
            "Downloading      100%\n",
            "Extracting  (10)  ⣾  \u001b[2K\u001b[1A\u001b[2K\u001b[1A\u001b[2K\u001b[0G[+] 1.1s\n",
            "Downloading      100%\n",
            "Extracting   (8)  ⣾  \u001b[2K\u001b[1A\u001b[2K\u001b[1A\u001b[2K\u001b[0G[+] 1.2s\n",
            "Downloading      100%\n",
            "Extracting   (8)  ⣾  \u001b[2K\u001b[1A\u001b[2K\u001b[1A\u001b[2K\u001b[0G[+] 1.3s\n",
            "Downloading      100%\n",
            "Extracting   (7)  ⣾  \u001b[2K\u001b[1A\u001b[2K\u001b[1A\u001b[2K\u001b[0G[+] 1.4s\n",
            "Downloading      100%\n",
            "Extracting   (7)  ⣾  \u001b[2K\u001b[1A\u001b[2K\u001b[1A\u001b[2K\u001b[0G[+] 1.5s\n",
            "Downloading      100%\n",
            "Extracting   (6)  ⣾  \u001b[2K\u001b[1A\u001b[2K\u001b[1A\u001b[2K\u001b[0G[+] 1.6s\n",
            "Downloading      100%\n",
            "Extracting   (6)  ⣾  \u001b[2K\u001b[1A\u001b[2K\u001b[1A\u001b[2K\u001b[0G[+] 1.7s\n",
            "Downloading      100%\n",
            "Extracting   (6)  ⣾  \u001b[2K\u001b[1A\u001b[2K\u001b[1A\u001b[2K\u001b[0G[+] 1.8s\n",
            "Downloading      100%\n",
            "Extracting   (5)  ⣾  \u001b[2K\u001b[1A\u001b[2K\u001b[1A\u001b[2K\u001b[0G[+] 1.9s\n",
            "Downloading      100%\n",
            "Extracting   (3)  ⣾  \u001b[2K\u001b[1A\u001b[2K\u001b[1A\u001b[2K\u001b[0G[+] 2.0s\n",
            "Downloading      100%\n",
            "Extracting   (2)  ⣾  \u001b[2K\u001b[1A\u001b[2K\u001b[1A\u001b[2K\u001b[0G[+] 2.1s\n",
            "Downloading      100%\n",
            "Extracting       100%\u001b[2K\u001b[1A\u001b[2K\u001b[1A\u001b[2K\u001b[0G\u001b[?25h\n",
            "Downloading and Extracting Packages:\n",
            "\n",
            "Preparing transaction: - \b\b\\ \b\bdone\n",
            "Verifying transaction: / \b\b- \b\b\\ \b\b| \b\b/ \b\b- \b\b\\ \b\b| \b\b/ \b\b- \b\b\\ \b\b| \b\bdone\n",
            "Executing transaction: - \b\b\\ \b\b| \b\b/ \b\b- \b\b\\ \b\b| \b\b/ \b\b- \b\b\\ \b\b| \b\b/ \b\b- \b\b\\ \b\b| \b\b/ \b\b- \b\b\\ \b\b| \b\b/ \b\b- \b\b\\ \b\b| \b\b/ \b\b- \b\b\\ \b\b| \b\bdone\n",
            "\n",
            "To activate this environment, use\n",
            "\n",
            "     $ mamba activate scPRAM\n",
            "\n",
            "To deactivate an active environment, use\n",
            "\n",
            "     $ mamba deactivate\n",
            "\n"
          ]
        }
      ]
    },
    {
      "cell_type": "markdown",
      "source": [
        "IF YOU HAVE TO RESTART ALWAYS RUN AGAIN THE OS.ENVIRON!"
      ],
      "metadata": {
        "id": "c4mSyGAXEVFI"
      }
    },
    {
      "cell_type": "code",
      "source": [
        "import os\n",
        "os.environ[\"CONDA_PREFIX\"] = \"/usr/local/envs/scPRAM\"\n",
        "os.environ[\"PATH\"] = \"/usr/local/envs/scPRAM/bin:\" + os.environ[\"PATH\"]"
      ],
      "metadata": {
        "id": "r8uZqr9Xh5Iv"
      },
      "execution_count": 4,
      "outputs": []
    },
    {
      "cell_type": "code",
      "source": [
        "!pip install scpram --extra-index-url https://download.pytorch.org/whl/cu116"
      ],
      "metadata": {
        "colab": {
          "base_uri": "https://localhost:8080/"
        },
        "collapsed": true,
        "id": "tP5lU0Fth-ev",
        "outputId": "9a3c8f15-c964-49e8-c95e-d91dd3c0dc22"
      },
      "execution_count": 5,
      "outputs": [
        {
          "output_type": "stream",
          "name": "stdout",
          "text": [
            "Looking in indexes: https://pypi.org/simple, https://download.pytorch.org/whl/cu116\n",
            "Requirement already satisfied: scpram in /usr/local/envs/scPRAM/lib/python3.8/site-packages (0.0.3)\n",
            "Requirement already satisfied: scanpy==1.9.3 in /usr/local/envs/scPRAM/lib/python3.8/site-packages (from scpram) (1.9.3)\n",
            "Requirement already satisfied: adjusttext==0.7 in /usr/local/envs/scPRAM/lib/python3.8/site-packages (from scpram) (0.7)\n",
            "Requirement already satisfied: pot==0.9.1 in /usr/local/envs/scPRAM/lib/python3.8/site-packages (from scpram) (0.9.1)\n",
            "Requirement already satisfied: jupyter==1.0.0 in /usr/local/envs/scPRAM/lib/python3.8/site-packages (from scpram) (1.0.0)\n",
            "Requirement already satisfied: torch==1.13.1 in /usr/local/envs/scPRAM/lib/python3.8/site-packages (from scpram) (1.13.1+cu116)\n",
            "Requirement already satisfied: torchaudio==0.13.1 in /usr/local/envs/scPRAM/lib/python3.8/site-packages (from scpram) (0.13.1+cu116)\n",
            "Requirement already satisfied: torchvision==0.14.1 in /usr/local/envs/scPRAM/lib/python3.8/site-packages (from scpram) (0.14.1+cu116)\n",
            "Requirement already satisfied: matplotlib in /usr/local/envs/scPRAM/lib/python3.8/site-packages (from adjusttext==0.7->scpram) (3.7.5)\n",
            "Requirement already satisfied: numpy in /usr/local/envs/scPRAM/lib/python3.8/site-packages (from adjusttext==0.7->scpram) (1.24.4)\n",
            "Requirement already satisfied: notebook in /usr/local/envs/scPRAM/lib/python3.8/site-packages (from jupyter==1.0.0->scpram) (7.3.3)\n",
            "Requirement already satisfied: qtconsole in /usr/local/envs/scPRAM/lib/python3.8/site-packages (from jupyter==1.0.0->scpram) (5.6.1)\n",
            "Requirement already satisfied: jupyter-console in /usr/local/envs/scPRAM/lib/python3.8/site-packages (from jupyter==1.0.0->scpram) (6.6.3)\n",
            "Requirement already satisfied: nbconvert in /usr/local/envs/scPRAM/lib/python3.8/site-packages (from jupyter==1.0.0->scpram) (7.16.6)\n",
            "Requirement already satisfied: ipykernel in /usr/local/envs/scPRAM/lib/python3.8/site-packages (from jupyter==1.0.0->scpram) (6.29.5)\n",
            "Requirement already satisfied: ipywidgets in /usr/local/envs/scPRAM/lib/python3.8/site-packages (from jupyter==1.0.0->scpram) (8.1.7)\n",
            "Requirement already satisfied: scipy>=1.0 in /usr/local/envs/scPRAM/lib/python3.8/site-packages (from pot==0.9.1->scpram) (1.10.1)\n",
            "Requirement already satisfied: anndata>=0.7.4 in /usr/local/envs/scPRAM/lib/python3.8/site-packages (from scanpy==1.9.3->scpram) (0.9.2)\n",
            "Requirement already satisfied: pandas>=1.0 in /usr/local/envs/scPRAM/lib/python3.8/site-packages (from scanpy==1.9.3->scpram) (2.0.3)\n",
            "Requirement already satisfied: seaborn in /usr/local/envs/scPRAM/lib/python3.8/site-packages (from scanpy==1.9.3->scpram) (0.13.2)\n",
            "Requirement already satisfied: h5py>=3 in /usr/local/envs/scPRAM/lib/python3.8/site-packages (from scanpy==1.9.3->scpram) (3.11.0)\n",
            "Requirement already satisfied: tqdm in /usr/local/envs/scPRAM/lib/python3.8/site-packages (from scanpy==1.9.3->scpram) (4.67.1)\n",
            "Requirement already satisfied: scikit-learn>=0.22 in /usr/local/envs/scPRAM/lib/python3.8/site-packages (from scanpy==1.9.3->scpram) (1.3.2)\n",
            "Requirement already satisfied: statsmodels>=0.10.0rc2 in /usr/local/envs/scPRAM/lib/python3.8/site-packages (from scanpy==1.9.3->scpram) (0.14.1)\n",
            "Requirement already satisfied: patsy in /usr/local/envs/scPRAM/lib/python3.8/site-packages (from scanpy==1.9.3->scpram) (1.0.1)\n",
            "Requirement already satisfied: networkx>=2.3 in /usr/local/envs/scPRAM/lib/python3.8/site-packages (from scanpy==1.9.3->scpram) (3.1)\n",
            "Requirement already satisfied: natsort in /usr/local/envs/scPRAM/lib/python3.8/site-packages (from scanpy==1.9.3->scpram) (8.4.0)\n",
            "Requirement already satisfied: joblib in /usr/local/envs/scPRAM/lib/python3.8/site-packages (from scanpy==1.9.3->scpram) (1.4.2)\n",
            "Requirement already satisfied: numba>=0.41.0 in /usr/local/envs/scPRAM/lib/python3.8/site-packages (from scanpy==1.9.3->scpram) (0.58.1)\n",
            "Requirement already satisfied: umap-learn>=0.3.10 in /usr/local/envs/scPRAM/lib/python3.8/site-packages (from scanpy==1.9.3->scpram) (0.5.7)\n",
            "Requirement already satisfied: packaging in /usr/local/envs/scPRAM/lib/python3.8/site-packages (from scanpy==1.9.3->scpram) (25.0)\n",
            "Requirement already satisfied: session-info in /usr/local/envs/scPRAM/lib/python3.8/site-packages (from scanpy==1.9.3->scpram) (1.0.1)\n",
            "Requirement already satisfied: typing-extensions in /usr/local/envs/scPRAM/lib/python3.8/site-packages (from torch==1.13.1->scpram) (4.13.2)\n",
            "Requirement already satisfied: requests in /usr/local/envs/scPRAM/lib/python3.8/site-packages (from torchvision==0.14.1->scpram) (2.32.4)\n",
            "Requirement already satisfied: pillow!=8.3.*,>=5.3.0 in /usr/local/envs/scPRAM/lib/python3.8/site-packages (from torchvision==0.14.1->scpram) (10.4.0)\n",
            "Requirement already satisfied: contourpy>=1.0.1 in /usr/local/envs/scPRAM/lib/python3.8/site-packages (from matplotlib->adjusttext==0.7->scpram) (1.1.1)\n",
            "Requirement already satisfied: cycler>=0.10 in /usr/local/envs/scPRAM/lib/python3.8/site-packages (from matplotlib->adjusttext==0.7->scpram) (0.12.1)\n",
            "Requirement already satisfied: fonttools>=4.22.0 in /usr/local/envs/scPRAM/lib/python3.8/site-packages (from matplotlib->adjusttext==0.7->scpram) (4.57.0)\n",
            "Requirement already satisfied: kiwisolver>=1.0.1 in /usr/local/envs/scPRAM/lib/python3.8/site-packages (from matplotlib->adjusttext==0.7->scpram) (1.4.7)\n",
            "Requirement already satisfied: pyparsing>=2.3.1 in /usr/local/envs/scPRAM/lib/python3.8/site-packages (from matplotlib->adjusttext==0.7->scpram) (3.1.4)\n",
            "Requirement already satisfied: python-dateutil>=2.7 in /usr/local/envs/scPRAM/lib/python3.8/site-packages (from matplotlib->adjusttext==0.7->scpram) (2.9.0.post0)\n",
            "Requirement already satisfied: importlib-resources>=3.2.0 in /usr/local/envs/scPRAM/lib/python3.8/site-packages (from matplotlib->adjusttext==0.7->scpram) (6.4.5)\n",
            "Requirement already satisfied: llvmlite<0.42,>=0.41.0dev0 in /usr/local/envs/scPRAM/lib/python3.8/site-packages (from numba>=0.41.0->scanpy==1.9.3->scpram) (0.41.1)\n",
            "Requirement already satisfied: importlib-metadata in /usr/local/envs/scPRAM/lib/python3.8/site-packages (from numba>=0.41.0->scanpy==1.9.3->scpram) (8.5.0)\n",
            "Requirement already satisfied: pytz>=2020.1 in /usr/local/envs/scPRAM/lib/python3.8/site-packages (from pandas>=1.0->scanpy==1.9.3->scpram) (2025.2)\n",
            "Requirement already satisfied: tzdata>=2022.1 in /usr/local/envs/scPRAM/lib/python3.8/site-packages (from pandas>=1.0->scanpy==1.9.3->scpram) (2025.2)\n",
            "Requirement already satisfied: threadpoolctl>=2.0.0 in /usr/local/envs/scPRAM/lib/python3.8/site-packages (from scikit-learn>=0.22->scanpy==1.9.3->scpram) (3.5.0)\n",
            "Requirement already satisfied: pynndescent>=0.5 in /usr/local/envs/scPRAM/lib/python3.8/site-packages (from umap-learn>=0.3.10->scanpy==1.9.3->scpram) (0.5.13)\n",
            "Requirement already satisfied: comm>=0.1.1 in /usr/local/envs/scPRAM/lib/python3.8/site-packages (from ipykernel->jupyter==1.0.0->scpram) (0.2.2)\n",
            "Requirement already satisfied: debugpy>=1.6.5 in /usr/local/envs/scPRAM/lib/python3.8/site-packages (from ipykernel->jupyter==1.0.0->scpram) (1.8.14)\n",
            "Requirement already satisfied: ipython>=7.23.1 in /usr/local/envs/scPRAM/lib/python3.8/site-packages (from ipykernel->jupyter==1.0.0->scpram) (8.12.3)\n",
            "Requirement already satisfied: jupyter-client>=6.1.12 in /usr/local/envs/scPRAM/lib/python3.8/site-packages (from ipykernel->jupyter==1.0.0->scpram) (8.6.3)\n",
            "Requirement already satisfied: jupyter-core!=5.0.*,>=4.12 in /usr/local/envs/scPRAM/lib/python3.8/site-packages (from ipykernel->jupyter==1.0.0->scpram) (5.8.1)\n",
            "Requirement already satisfied: matplotlib-inline>=0.1 in /usr/local/envs/scPRAM/lib/python3.8/site-packages (from ipykernel->jupyter==1.0.0->scpram) (0.1.7)\n",
            "Requirement already satisfied: nest-asyncio in /usr/local/envs/scPRAM/lib/python3.8/site-packages (from ipykernel->jupyter==1.0.0->scpram) (1.6.0)\n",
            "Requirement already satisfied: psutil in /usr/local/envs/scPRAM/lib/python3.8/site-packages (from ipykernel->jupyter==1.0.0->scpram) (7.0.0)\n",
            "Requirement already satisfied: pyzmq>=24 in /usr/local/envs/scPRAM/lib/python3.8/site-packages (from ipykernel->jupyter==1.0.0->scpram) (27.0.0)\n",
            "Requirement already satisfied: tornado>=6.1 in /usr/local/envs/scPRAM/lib/python3.8/site-packages (from ipykernel->jupyter==1.0.0->scpram) (6.4.2)\n",
            "Requirement already satisfied: traitlets>=5.4.0 in /usr/local/envs/scPRAM/lib/python3.8/site-packages (from ipykernel->jupyter==1.0.0->scpram) (5.14.3)\n",
            "Requirement already satisfied: widgetsnbextension~=4.0.14 in /usr/local/envs/scPRAM/lib/python3.8/site-packages (from ipywidgets->jupyter==1.0.0->scpram) (4.0.14)\n",
            "Requirement already satisfied: jupyterlab_widgets~=3.0.15 in /usr/local/envs/scPRAM/lib/python3.8/site-packages (from ipywidgets->jupyter==1.0.0->scpram) (3.0.15)\n",
            "Requirement already satisfied: prompt-toolkit>=3.0.30 in /usr/local/envs/scPRAM/lib/python3.8/site-packages (from jupyter-console->jupyter==1.0.0->scpram) (3.0.51)\n",
            "Requirement already satisfied: pygments in /usr/local/envs/scPRAM/lib/python3.8/site-packages (from jupyter-console->jupyter==1.0.0->scpram) (2.19.2)\n",
            "Requirement already satisfied: beautifulsoup4 in /usr/local/envs/scPRAM/lib/python3.8/site-packages (from nbconvert->jupyter==1.0.0->scpram) (4.13.4)\n",
            "Requirement already satisfied: bleach!=5.0.0 in /usr/local/envs/scPRAM/lib/python3.8/site-packages (from bleach[css]!=5.0.0->nbconvert->jupyter==1.0.0->scpram) (6.1.0)\n",
            "Requirement already satisfied: defusedxml in /usr/local/envs/scPRAM/lib/python3.8/site-packages (from nbconvert->jupyter==1.0.0->scpram) (0.7.1)\n",
            "Requirement already satisfied: jinja2>=3.0 in /usr/local/envs/scPRAM/lib/python3.8/site-packages (from nbconvert->jupyter==1.0.0->scpram) (3.1.6)\n",
            "Requirement already satisfied: jupyterlab-pygments in /usr/local/envs/scPRAM/lib/python3.8/site-packages (from nbconvert->jupyter==1.0.0->scpram) (0.3.0)\n",
            "Requirement already satisfied: markupsafe>=2.0 in /usr/local/envs/scPRAM/lib/python3.8/site-packages (from nbconvert->jupyter==1.0.0->scpram) (2.1.5)\n",
            "Requirement already satisfied: mistune<4,>=2.0.3 in /usr/local/envs/scPRAM/lib/python3.8/site-packages (from nbconvert->jupyter==1.0.0->scpram) (3.1.3)\n",
            "Requirement already satisfied: nbclient>=0.5.0 in /usr/local/envs/scPRAM/lib/python3.8/site-packages (from nbconvert->jupyter==1.0.0->scpram) (0.10.1)\n",
            "Requirement already satisfied: nbformat>=5.7 in /usr/local/envs/scPRAM/lib/python3.8/site-packages (from nbconvert->jupyter==1.0.0->scpram) (5.10.4)\n",
            "Requirement already satisfied: pandocfilters>=1.4.1 in /usr/local/envs/scPRAM/lib/python3.8/site-packages (from nbconvert->jupyter==1.0.0->scpram) (1.5.1)\n",
            "Requirement already satisfied: jupyter-server<3,>=2.4.0 in /usr/local/envs/scPRAM/lib/python3.8/site-packages (from notebook->jupyter==1.0.0->scpram) (2.14.2)\n",
            "Requirement already satisfied: jupyterlab-server<3,>=2.27.1 in /usr/local/envs/scPRAM/lib/python3.8/site-packages (from notebook->jupyter==1.0.0->scpram) (2.27.3)\n",
            "Requirement already satisfied: jupyterlab<4.4,>=4.3.6 in /usr/local/envs/scPRAM/lib/python3.8/site-packages (from notebook->jupyter==1.0.0->scpram) (4.3.7)\n",
            "Requirement already satisfied: notebook-shim<0.3,>=0.2 in /usr/local/envs/scPRAM/lib/python3.8/site-packages (from notebook->jupyter==1.0.0->scpram) (0.2.4)\n",
            "Requirement already satisfied: qtpy>=2.4.0 in /usr/local/envs/scPRAM/lib/python3.8/site-packages (from qtconsole->jupyter==1.0.0->scpram) (2.4.3)\n",
            "Requirement already satisfied: charset_normalizer<4,>=2 in /usr/local/envs/scPRAM/lib/python3.8/site-packages (from requests->torchvision==0.14.1->scpram) (3.4.2)\n",
            "Requirement already satisfied: idna<4,>=2.5 in /usr/local/envs/scPRAM/lib/python3.8/site-packages (from requests->torchvision==0.14.1->scpram) (3.10)\n",
            "Requirement already satisfied: urllib3<3,>=1.21.1 in /usr/local/envs/scPRAM/lib/python3.8/site-packages (from requests->torchvision==0.14.1->scpram) (2.2.3)\n",
            "Requirement already satisfied: certifi>=2017.4.17 in /usr/local/envs/scPRAM/lib/python3.8/site-packages (from requests->torchvision==0.14.1->scpram) (2025.6.15)\n",
            "Requirement already satisfied: stdlib_list in /usr/local/envs/scPRAM/lib/python3.8/site-packages (from session-info->scanpy==1.9.3->scpram) (0.10.0)\n",
            "Requirement already satisfied: six>=1.9.0 in /usr/local/envs/scPRAM/lib/python3.8/site-packages (from bleach!=5.0.0->bleach[css]!=5.0.0->nbconvert->jupyter==1.0.0->scpram) (1.17.0)\n",
            "Requirement already satisfied: webencodings in /usr/local/envs/scPRAM/lib/python3.8/site-packages (from bleach!=5.0.0->bleach[css]!=5.0.0->nbconvert->jupyter==1.0.0->scpram) (0.5.1)\n",
            "Requirement already satisfied: tinycss2<1.3,>=1.1.0 in /usr/local/envs/scPRAM/lib/python3.8/site-packages (from bleach[css]!=5.0.0->nbconvert->jupyter==1.0.0->scpram) (1.2.1)\n",
            "Requirement already satisfied: zipp>=3.20 in /usr/local/envs/scPRAM/lib/python3.8/site-packages (from importlib-metadata->numba>=0.41.0->scanpy==1.9.3->scpram) (3.20.2)\n",
            "Requirement already satisfied: backcall in /usr/local/envs/scPRAM/lib/python3.8/site-packages (from ipython>=7.23.1->ipykernel->jupyter==1.0.0->scpram) (0.2.0)\n",
            "Requirement already satisfied: decorator in /usr/local/envs/scPRAM/lib/python3.8/site-packages (from ipython>=7.23.1->ipykernel->jupyter==1.0.0->scpram) (5.2.1)\n",
            "Requirement already satisfied: jedi>=0.16 in /usr/local/envs/scPRAM/lib/python3.8/site-packages (from ipython>=7.23.1->ipykernel->jupyter==1.0.0->scpram) (0.19.2)\n",
            "Requirement already satisfied: pickleshare in /usr/local/envs/scPRAM/lib/python3.8/site-packages (from ipython>=7.23.1->ipykernel->jupyter==1.0.0->scpram) (0.7.5)\n",
            "Requirement already satisfied: stack-data in /usr/local/envs/scPRAM/lib/python3.8/site-packages (from ipython>=7.23.1->ipykernel->jupyter==1.0.0->scpram) (0.6.3)\n",
            "Requirement already satisfied: pexpect>4.3 in /usr/local/envs/scPRAM/lib/python3.8/site-packages (from ipython>=7.23.1->ipykernel->jupyter==1.0.0->scpram) (4.9.0)\n",
            "Requirement already satisfied: platformdirs>=2.5 in /usr/local/envs/scPRAM/lib/python3.8/site-packages (from jupyter-core!=5.0.*,>=4.12->ipykernel->jupyter==1.0.0->scpram) (4.3.6)\n",
            "Requirement already satisfied: anyio>=3.1.0 in /usr/local/envs/scPRAM/lib/python3.8/site-packages (from jupyter-server<3,>=2.4.0->notebook->jupyter==1.0.0->scpram) (4.5.2)\n",
            "Requirement already satisfied: argon2-cffi>=21.1 in /usr/local/envs/scPRAM/lib/python3.8/site-packages (from jupyter-server<3,>=2.4.0->notebook->jupyter==1.0.0->scpram) (25.1.0)\n",
            "Requirement already satisfied: jupyter-events>=0.9.0 in /usr/local/envs/scPRAM/lib/python3.8/site-packages (from jupyter-server<3,>=2.4.0->notebook->jupyter==1.0.0->scpram) (0.10.0)\n",
            "Requirement already satisfied: jupyter-server-terminals>=0.4.4 in /usr/local/envs/scPRAM/lib/python3.8/site-packages (from jupyter-server<3,>=2.4.0->notebook->jupyter==1.0.0->scpram) (0.5.3)\n",
            "Requirement already satisfied: overrides>=5.0 in /usr/local/envs/scPRAM/lib/python3.8/site-packages (from jupyter-server<3,>=2.4.0->notebook->jupyter==1.0.0->scpram) (7.7.0)\n",
            "Requirement already satisfied: prometheus-client>=0.9 in /usr/local/envs/scPRAM/lib/python3.8/site-packages (from jupyter-server<3,>=2.4.0->notebook->jupyter==1.0.0->scpram) (0.21.1)\n",
            "Requirement already satisfied: send2trash>=1.8.2 in /usr/local/envs/scPRAM/lib/python3.8/site-packages (from jupyter-server<3,>=2.4.0->notebook->jupyter==1.0.0->scpram) (1.8.3)\n",
            "Requirement already satisfied: terminado>=0.8.3 in /usr/local/envs/scPRAM/lib/python3.8/site-packages (from jupyter-server<3,>=2.4.0->notebook->jupyter==1.0.0->scpram) (0.18.1)\n",
            "Requirement already satisfied: websocket-client>=1.7 in /usr/local/envs/scPRAM/lib/python3.8/site-packages (from jupyter-server<3,>=2.4.0->notebook->jupyter==1.0.0->scpram) (1.8.0)\n",
            "Requirement already satisfied: async-lru>=1.0.0 in /usr/local/envs/scPRAM/lib/python3.8/site-packages (from jupyterlab<4.4,>=4.3.6->notebook->jupyter==1.0.0->scpram) (2.0.4)\n",
            "Requirement already satisfied: httpx>=0.25.0 in /usr/local/envs/scPRAM/lib/python3.8/site-packages (from jupyterlab<4.4,>=4.3.6->notebook->jupyter==1.0.0->scpram) (0.28.1)\n",
            "Requirement already satisfied: jupyter-lsp>=2.0.0 in /usr/local/envs/scPRAM/lib/python3.8/site-packages (from jupyterlab<4.4,>=4.3.6->notebook->jupyter==1.0.0->scpram) (2.2.5)\n",
            "Requirement already satisfied: setuptools>=41.1.0 in /usr/local/envs/scPRAM/lib/python3.8/site-packages (from jupyterlab<4.4,>=4.3.6->notebook->jupyter==1.0.0->scpram) (75.3.0)\n",
            "Requirement already satisfied: tomli>=1.2.2 in /usr/local/envs/scPRAM/lib/python3.8/site-packages (from jupyterlab<4.4,>=4.3.6->notebook->jupyter==1.0.0->scpram) (2.2.1)\n",
            "Requirement already satisfied: babel>=2.10 in /usr/local/envs/scPRAM/lib/python3.8/site-packages (from jupyterlab-server<3,>=2.27.1->notebook->jupyter==1.0.0->scpram) (2.17.0)\n",
            "Requirement already satisfied: json5>=0.9.0 in /usr/local/envs/scPRAM/lib/python3.8/site-packages (from jupyterlab-server<3,>=2.27.1->notebook->jupyter==1.0.0->scpram) (0.12.0)\n",
            "Requirement already satisfied: jsonschema>=4.18.0 in /usr/local/envs/scPRAM/lib/python3.8/site-packages (from jupyterlab-server<3,>=2.27.1->notebook->jupyter==1.0.0->scpram) (4.23.0)\n",
            "Requirement already satisfied: fastjsonschema>=2.15 in /usr/local/envs/scPRAM/lib/python3.8/site-packages (from nbformat>=5.7->nbconvert->jupyter==1.0.0->scpram) (2.21.1)\n",
            "Requirement already satisfied: wcwidth in /usr/local/envs/scPRAM/lib/python3.8/site-packages (from prompt-toolkit>=3.0.30->jupyter-console->jupyter==1.0.0->scpram) (0.2.13)\n",
            "Requirement already satisfied: soupsieve>1.2 in /usr/local/envs/scPRAM/lib/python3.8/site-packages (from beautifulsoup4->nbconvert->jupyter==1.0.0->scpram) (2.7)\n",
            "Requirement already satisfied: sniffio>=1.1 in /usr/local/envs/scPRAM/lib/python3.8/site-packages (from anyio>=3.1.0->jupyter-server<3,>=2.4.0->notebook->jupyter==1.0.0->scpram) (1.3.1)\n",
            "Requirement already satisfied: exceptiongroup>=1.0.2 in /usr/local/envs/scPRAM/lib/python3.8/site-packages (from anyio>=3.1.0->jupyter-server<3,>=2.4.0->notebook->jupyter==1.0.0->scpram) (1.3.0)\n",
            "Requirement already satisfied: argon2-cffi-bindings in /usr/local/envs/scPRAM/lib/python3.8/site-packages (from argon2-cffi>=21.1->jupyter-server<3,>=2.4.0->notebook->jupyter==1.0.0->scpram) (21.2.0)\n",
            "Requirement already satisfied: httpcore==1.* in /usr/local/envs/scPRAM/lib/python3.8/site-packages (from httpx>=0.25.0->jupyterlab<4.4,>=4.3.6->notebook->jupyter==1.0.0->scpram) (1.0.9)\n",
            "Requirement already satisfied: h11>=0.16 in /usr/local/envs/scPRAM/lib/python3.8/site-packages (from httpcore==1.*->httpx>=0.25.0->jupyterlab<4.4,>=4.3.6->notebook->jupyter==1.0.0->scpram) (0.16.0)\n",
            "Requirement already satisfied: parso<0.9.0,>=0.8.4 in /usr/local/envs/scPRAM/lib/python3.8/site-packages (from jedi>=0.16->ipython>=7.23.1->ipykernel->jupyter==1.0.0->scpram) (0.8.4)\n",
            "Requirement already satisfied: attrs>=22.2.0 in /usr/local/envs/scPRAM/lib/python3.8/site-packages (from jsonschema>=4.18.0->jupyterlab-server<3,>=2.27.1->notebook->jupyter==1.0.0->scpram) (25.3.0)\n",
            "Requirement already satisfied: jsonschema-specifications>=2023.03.6 in /usr/local/envs/scPRAM/lib/python3.8/site-packages (from jsonschema>=4.18.0->jupyterlab-server<3,>=2.27.1->notebook->jupyter==1.0.0->scpram) (2023.12.1)\n",
            "Requirement already satisfied: pkgutil-resolve-name>=1.3.10 in /usr/local/envs/scPRAM/lib/python3.8/site-packages (from jsonschema>=4.18.0->jupyterlab-server<3,>=2.27.1->notebook->jupyter==1.0.0->scpram) (1.3.10)\n",
            "Requirement already satisfied: referencing>=0.28.4 in /usr/local/envs/scPRAM/lib/python3.8/site-packages (from jsonschema>=4.18.0->jupyterlab-server<3,>=2.27.1->notebook->jupyter==1.0.0->scpram) (0.35.1)\n",
            "Requirement already satisfied: rpds-py>=0.7.1 in /usr/local/envs/scPRAM/lib/python3.8/site-packages (from jsonschema>=4.18.0->jupyterlab-server<3,>=2.27.1->notebook->jupyter==1.0.0->scpram) (0.20.1)\n",
            "Requirement already satisfied: python-json-logger>=2.0.4 in /usr/local/envs/scPRAM/lib/python3.8/site-packages (from jupyter-events>=0.9.0->jupyter-server<3,>=2.4.0->notebook->jupyter==1.0.0->scpram) (3.3.0)\n",
            "Requirement already satisfied: pyyaml>=5.3 in /usr/local/envs/scPRAM/lib/python3.8/site-packages (from jupyter-events>=0.9.0->jupyter-server<3,>=2.4.0->notebook->jupyter==1.0.0->scpram) (6.0.2)\n",
            "Requirement already satisfied: rfc3339-validator in /usr/local/envs/scPRAM/lib/python3.8/site-packages (from jupyter-events>=0.9.0->jupyter-server<3,>=2.4.0->notebook->jupyter==1.0.0->scpram) (0.1.4)\n",
            "Requirement already satisfied: rfc3986-validator>=0.1.1 in /usr/local/envs/scPRAM/lib/python3.8/site-packages (from jupyter-events>=0.9.0->jupyter-server<3,>=2.4.0->notebook->jupyter==1.0.0->scpram) (0.1.1)\n",
            "Requirement already satisfied: ptyprocess>=0.5 in /usr/local/envs/scPRAM/lib/python3.8/site-packages (from pexpect>4.3->ipython>=7.23.1->ipykernel->jupyter==1.0.0->scpram) (0.7.0)\n",
            "Requirement already satisfied: executing>=1.2.0 in /usr/local/envs/scPRAM/lib/python3.8/site-packages (from stack-data->ipython>=7.23.1->ipykernel->jupyter==1.0.0->scpram) (2.2.0)\n",
            "Requirement already satisfied: asttokens>=2.1.0 in /usr/local/envs/scPRAM/lib/python3.8/site-packages (from stack-data->ipython>=7.23.1->ipykernel->jupyter==1.0.0->scpram) (3.0.0)\n",
            "Requirement already satisfied: pure-eval in /usr/local/envs/scPRAM/lib/python3.8/site-packages (from stack-data->ipython>=7.23.1->ipykernel->jupyter==1.0.0->scpram) (0.2.3)\n",
            "Requirement already satisfied: fqdn in /usr/local/envs/scPRAM/lib/python3.8/site-packages (from jsonschema[format-nongpl]>=4.18.0->jupyter-events>=0.9.0->jupyter-server<3,>=2.4.0->notebook->jupyter==1.0.0->scpram) (1.5.1)\n",
            "Requirement already satisfied: isoduration in /usr/local/envs/scPRAM/lib/python3.8/site-packages (from jsonschema[format-nongpl]>=4.18.0->jupyter-events>=0.9.0->jupyter-server<3,>=2.4.0->notebook->jupyter==1.0.0->scpram) (20.11.0)\n",
            "Requirement already satisfied: jsonpointer>1.13 in /usr/local/envs/scPRAM/lib/python3.8/site-packages (from jsonschema[format-nongpl]>=4.18.0->jupyter-events>=0.9.0->jupyter-server<3,>=2.4.0->notebook->jupyter==1.0.0->scpram) (3.0.0)\n",
            "Requirement already satisfied: uri-template in /usr/local/envs/scPRAM/lib/python3.8/site-packages (from jsonschema[format-nongpl]>=4.18.0->jupyter-events>=0.9.0->jupyter-server<3,>=2.4.0->notebook->jupyter==1.0.0->scpram) (1.3.0)\n",
            "Requirement already satisfied: webcolors>=24.6.0 in /usr/local/envs/scPRAM/lib/python3.8/site-packages (from jsonschema[format-nongpl]>=4.18.0->jupyter-events>=0.9.0->jupyter-server<3,>=2.4.0->notebook->jupyter==1.0.0->scpram) (24.8.0)\n",
            "Requirement already satisfied: cffi>=1.0.1 in /usr/local/envs/scPRAM/lib/python3.8/site-packages (from argon2-cffi-bindings->argon2-cffi>=21.1->jupyter-server<3,>=2.4.0->notebook->jupyter==1.0.0->scpram) (1.17.1)\n",
            "Requirement already satisfied: pycparser in /usr/local/envs/scPRAM/lib/python3.8/site-packages (from cffi>=1.0.1->argon2-cffi-bindings->argon2-cffi>=21.1->jupyter-server<3,>=2.4.0->notebook->jupyter==1.0.0->scpram) (2.22)\n",
            "Requirement already satisfied: arrow>=0.15.0 in /usr/local/envs/scPRAM/lib/python3.8/site-packages (from isoduration->jsonschema[format-nongpl]>=4.18.0->jupyter-events>=0.9.0->jupyter-server<3,>=2.4.0->notebook->jupyter==1.0.0->scpram) (1.3.0)\n",
            "Requirement already satisfied: types-python-dateutil>=2.8.10 in /usr/local/envs/scPRAM/lib/python3.8/site-packages (from arrow>=0.15.0->isoduration->jsonschema[format-nongpl]>=4.18.0->jupyter-events>=0.9.0->jupyter-server<3,>=2.4.0->notebook->jupyter==1.0.0->scpram) (2.9.0.20241206)\n"
          ]
        }
      ]
    },
    {
      "cell_type": "code",
      "source": [
        "# Sanity check 1 --- it should point towards the mamba environment we made!\n",
        "!pip show scpram"
      ],
      "metadata": {
        "colab": {
          "base_uri": "https://localhost:8080/"
        },
        "id": "Gixm4SFXksHL",
        "outputId": "1b949dcd-0ff4-403e-d055-7b4cc410b9d5"
      },
      "execution_count": 6,
      "outputs": [
        {
          "output_type": "stream",
          "name": "stdout",
          "text": [
            "Name: scpram\n",
            "Version: 0.0.3\n",
            "Summary: scPRAM accurately predicts single-cell gene expression perturbation response based on attention mechanism\n",
            "Home-page: https://github.com/jiang-q19/scPRAM\n",
            "Author: Qun Jiang\n",
            "Author-email: \n",
            "License: MIT Licence\n",
            "Location: /usr/local/envs/scPRAM/lib/python3.8/site-packages\n",
            "Requires: adjusttext, jupyter, pot, scanpy, torch, torchaudio, torchvision\n",
            "Required-by: \n"
          ]
        }
      ]
    },
    {
      "cell_type": "code",
      "source": [
        "# Sanity check 2 --- it should point towards the mamba environment we made!\n",
        "!pip show scanpy"
      ],
      "metadata": {
        "colab": {
          "base_uri": "https://localhost:8080/"
        },
        "id": "fF4MbZTRk4P2",
        "outputId": "d66d3d6a-4a86-4075-fd70-08f9c649ebc7"
      },
      "execution_count": 7,
      "outputs": [
        {
          "output_type": "stream",
          "name": "stdout",
          "text": [
            "Name: scanpy\n",
            "Version: 1.9.3\n",
            "Summary: Single-Cell Analysis in Python.\n",
            "Home-page: https://scanpy.org\n",
            "Author: Alex Wolf, Philipp Angerer, Fidel Ramirez, Isaac Virshup, Sergei Rybakov, Gokcen Eraslan, Tom White, Malte Luecken, Davide Cittaro, Tobias Callies, Marius Lange, Andrés R. Muñoz-Rojas\n",
            "Author-email: \n",
            "License: \n",
            "Location: /usr/local/envs/scPRAM/lib/python3.8/site-packages\n",
            "Requires: anndata, h5py, joblib, matplotlib, natsort, networkx, numba, numpy, packaging, pandas, patsy, scikit-learn, scipy, seaborn, session-info, statsmodels, tqdm, umap-learn\n",
            "Required-by: scpram\n"
          ]
        }
      ]
    },
    {
      "cell_type": "markdown",
      "source": [
        "The follow code runs the analysis really close to the github tutorial of `scPRAM`"
      ],
      "metadata": {
        "id": "sD4yx7h8EqfK"
      }
    },
    {
      "cell_type": "code",
      "source": [
        "! /usr/local/envs/scPRAM/bin/python /content/run_scpram.py"
      ],
      "metadata": {
        "colab": {
          "base_uri": "https://localhost:8080/"
        },
        "id": "6MWF1EI_lp6e",
        "outputId": "230e3145-ac70-45ae-9c7d-ce48698a9056"
      },
      "execution_count": 25,
      "outputs": [
        {
          "output_type": "stream",
          "name": "stdout",
          "text": [
            "/usr/local/envs/scPRAM/lib/python3.8/site-packages/anndata/compat/__init__.py:229: FutureWarning: Moving element from .uns['neighbors']['distances'] to .obsp['distances'].\n",
            "\n",
            "This is where adjacency matrices should go now.\n",
            "  warn(\n",
            "/usr/local/envs/scPRAM/lib/python3.8/site-packages/anndata/compat/__init__.py:229: FutureWarning: Moving element from .uns['neighbors']['connectivities'] to .obsp['connectivities'].\n",
            "\n",
            "This is where adjacency matrices should go now.\n",
            "  warn(\n",
            "Training Epoch 0:   0% 0/100 [00:00<?, ?it/s]/usr/local/envs/scPRAM/lib/python3.8/site-packages/scpram/models.py:121: UserWarning: torch.nn.utils.clip_grad_norm is now deprecated in favor of torch.nn.utils.clip_grad_norm_.\n",
            "  torch.nn.utils.clip_grad_norm(self.parameters(), 10)\n",
            "Training Epoch 99: 100% 100/100 [02:15<00:00,  1.35s/it, SCPRAM_loss=53.9, kl_loss=431, recon_loss=108]\n",
            "/usr/local/envs/scPRAM/lib/python3.8/site-packages/ot/lp/__init__.py:354: UserWarning: numItermax reached before optimality. Try to increase numItermax.\n",
            "  result_code_string = check_result(result_code)\n",
            "/usr/local/envs/scPRAM/lib/python3.8/site-packages/anndata/_core/anndata.py:1763: FutureWarning: The AnnData.concatenate method is deprecated in favour of the anndata.concat function. Please use anndata.concat instead.\n",
            "\n",
            "See the tutorial for concat at: https://anndata.readthedocs.io/en/latest/concatenation.html\n",
            "  warnings.warn(\n",
            "✅ Saved R2 scatter for all genes\n",
            "✅ Saved R2 scatter for top 100 DEGs\n",
            "/usr/local/envs/scPRAM/lib/python3.8/site-packages/anndata/_core/anndata.py:1763: FutureWarning: The AnnData.concatenate method is deprecated in favour of the anndata.concat function. Please use anndata.concat instead.\n",
            "\n",
            "See the tutorial for concat at: https://anndata.readthedocs.io/en/latest/concatenation.html\n",
            "  warnings.warn(\n",
            "/usr/local/envs/scPRAM/lib/python3.8/site-packages/scanpy/plotting/_tools/scatterplots.py:392: UserWarning: No data for colormapping provided via 'c'. Parameters 'cmap' will be ignored\n",
            "  cax = scatter(\n",
            "Figure(600x600)\n",
            "Figure(600x600)\n",
            "Figure(640x480)\n",
            "common DEGs:  53\n",
            "Figure(640x480)\n",
            "Figure(640x480)\n",
            "/usr/local/envs/scPRAM/lib/python3.8/site-packages/scanpy/plotting/_anndata.py:843: FutureWarning: \n",
            "\n",
            "Passing `palette` without assigning `hue` is deprecated and will be removed in v0.14.0. Assign the `x` variable to `hue` and set `legend=False` for the same effect.\n",
            "\n",
            "  ax = sns.violinplot(\n",
            "/usr/local/envs/scPRAM/lib/python3.8/site-packages/scanpy/plotting/_anndata.py:843: FutureWarning: \n",
            "\n",
            "The `scale` parameter has been renamed and will be removed in v0.15.0. Pass `density_norm='width'` for the same effect.\n",
            "  ax = sns.violinplot(\n",
            "Figure(804.6x480)\n",
            "/usr/local/envs/scPRAM/lib/python3.8/site-packages/scanpy/plotting/_anndata.py:843: FutureWarning: \n",
            "\n",
            "Passing `palette` without assigning `hue` is deprecated and will be removed in v0.14.0. Assign the `x` variable to `hue` and set `legend=False` for the same effect.\n",
            "\n",
            "  ax = sns.violinplot(\n",
            "/usr/local/envs/scPRAM/lib/python3.8/site-packages/scanpy/plotting/_anndata.py:843: FutureWarning: \n",
            "\n",
            "The `scale` parameter has been renamed and will be removed in v0.15.0. Pass `density_norm='width'` for the same effect.\n",
            "  ax = sns.violinplot(\n",
            "Figure(804.6x480)\n",
            "/usr/local/envs/scPRAM/lib/python3.8/site-packages/scanpy/plotting/_anndata.py:843: FutureWarning: \n",
            "\n",
            "Passing `palette` without assigning `hue` is deprecated and will be removed in v0.14.0. Assign the `x` variable to `hue` and set `legend=False` for the same effect.\n",
            "\n",
            "  ax = sns.violinplot(\n",
            "/usr/local/envs/scPRAM/lib/python3.8/site-packages/scanpy/plotting/_anndata.py:843: FutureWarning: \n",
            "\n",
            "The `scale` parameter has been renamed and will be removed in v0.15.0. Pass `density_norm='width'` for the same effect.\n",
            "  ax = sns.violinplot(\n",
            "Figure(804.6x480)\n",
            "Figure(1280x480)\n",
            "/usr/local/envs/scPRAM/lib/python3.8/site-packages/scanpy/plotting/_dotplot.py:749: UserWarning: No data for colormapping provided via 'c'. Parameters 'cmap', 'norm' will be ignored\n",
            "  dot_ax.scatter(x, y, **kwds)\n",
            "Figure(890x250)\n",
            "\n",
            "✨ All done! Outputs saved in: /content/scpram_outputs\n"
          ]
        }
      ]
    },
    {
      "cell_type": "markdown",
      "source": [
        "The following code runs through all cell types"
      ],
      "metadata": {
        "id": "VO4tNHBQE6cD"
      }
    },
    {
      "cell_type": "code",
      "source": [
        "! /usr/local/envs/scPRAM/bin/python /content/run_scpram_allcells.py"
      ],
      "metadata": {
        "colab": {
          "base_uri": "https://localhost:8080/"
        },
        "id": "vmhvo00L-EhB",
        "outputId": "c199e2ee-ef13-44de-c299-d13a948f81db"
      },
      "execution_count": 24,
      "outputs": [
        {
          "output_type": "stream",
          "name": "stdout",
          "text": [
            "/usr/local/envs/scPRAM/lib/python3.8/site-packages/anndata/compat/__init__.py:229: FutureWarning: Moving element from .uns['neighbors']['distances'] to .obsp['distances'].\n",
            "\n",
            "This is where adjacency matrices should go now.\n",
            "  warn(\n",
            "/usr/local/envs/scPRAM/lib/python3.8/site-packages/anndata/compat/__init__.py:229: FutureWarning: Moving element from .uns['neighbors']['connectivities'] to .obsp['connectivities'].\n",
            "\n",
            "This is where adjacency matrices should go now.\n",
            "  warn(\n",
            "✅ norm_data.obs['label'] head:\n",
            "label\n",
            "stim    532\n",
            "ctrl    468\n",
            "Name: count, dtype: int64\n",
            "=== Running scPRAM for FCGR3A+Mono ===\n",
            "Training Epoch 0:   0% 0/100 [00:00<?, ?it/s]/usr/local/envs/scPRAM/lib/python3.8/site-packages/scpram/models.py:121: UserWarning: torch.nn.utils.clip_grad_norm is now deprecated in favor of torch.nn.utils.clip_grad_norm_.\n",
            "  torch.nn.utils.clip_grad_norm(self.parameters(), 10)\n",
            "Training Epoch 99: 100% 100/100 [00:09<00:00, 10.46it/s, SCPRAM_loss=62.9, kl_loss=891, recon_loss=125]\n",
            "/usr/local/envs/scPRAM/lib/python3.8/site-packages/anndata/_core/anndata.py:1763: FutureWarning: The AnnData.concatenate method is deprecated in favour of the anndata.concat function. Please use anndata.concat instead.\n",
            "\n",
            "See the tutorial for concat at: https://anndata.readthedocs.io/en/latest/concatenation.html\n",
            "  warnings.warn(\n",
            "=== Running scPRAM for CD4T ===\n",
            "Training Epoch 0:   0% 0/100 [00:00<?, ?it/s]/usr/local/envs/scPRAM/lib/python3.8/site-packages/scpram/models.py:121: UserWarning: torch.nn.utils.clip_grad_norm is now deprecated in favor of torch.nn.utils.clip_grad_norm_.\n",
            "  torch.nn.utils.clip_grad_norm(self.parameters(), 10)\n",
            "Training Epoch 99: 100% 100/100 [00:08<00:00, 11.44it/s, SCPRAM_loss=59.5, kl_loss=686, recon_loss=119]\n",
            "/usr/local/envs/scPRAM/lib/python3.8/site-packages/anndata/_core/anndata.py:1763: FutureWarning: The AnnData.concatenate method is deprecated in favour of the anndata.concat function. Please use anndata.concat instead.\n",
            "\n",
            "See the tutorial for concat at: https://anndata.readthedocs.io/en/latest/concatenation.html\n",
            "  warnings.warn(\n",
            "=== Running scPRAM for CD14+Mono ===\n",
            "Training Epoch 0:   0% 0/100 [00:00<?, ?it/s]/usr/local/envs/scPRAM/lib/python3.8/site-packages/scpram/models.py:121: UserWarning: torch.nn.utils.clip_grad_norm is now deprecated in favor of torch.nn.utils.clip_grad_norm_.\n",
            "  torch.nn.utils.clip_grad_norm(self.parameters(), 10)\n",
            "Training Epoch 99: 100% 100/100 [00:09<00:00, 10.03it/s, SCPRAM_loss=56.7, kl_loss=829, recon_loss=113]\n",
            "/usr/local/envs/scPRAM/lib/python3.8/site-packages/anndata/_core/anndata.py:1763: FutureWarning: The AnnData.concatenate method is deprecated in favour of the anndata.concat function. Please use anndata.concat instead.\n",
            "\n",
            "See the tutorial for concat at: https://anndata.readthedocs.io/en/latest/concatenation.html\n",
            "  warnings.warn(\n",
            "=== Running scPRAM for NK ===\n",
            "Training Epoch 0:   0% 0/100 [00:00<?, ?it/s]/usr/local/envs/scPRAM/lib/python3.8/site-packages/scpram/models.py:121: UserWarning: torch.nn.utils.clip_grad_norm is now deprecated in favor of torch.nn.utils.clip_grad_norm_.\n",
            "  torch.nn.utils.clip_grad_norm(self.parameters(), 10)\n",
            "Training Epoch 99: 100% 100/100 [00:10<00:00,  9.94it/s, SCPRAM_loss=56.3, kl_loss=795, recon_loss=112]\n",
            "/usr/local/envs/scPRAM/lib/python3.8/site-packages/anndata/_core/anndata.py:1763: FutureWarning: The AnnData.concatenate method is deprecated in favour of the anndata.concat function. Please use anndata.concat instead.\n",
            "\n",
            "See the tutorial for concat at: https://anndata.readthedocs.io/en/latest/concatenation.html\n",
            "  warnings.warn(\n",
            "=== Running scPRAM for B ===\n",
            "Training Epoch 0:   0% 0/100 [00:00<?, ?it/s]/usr/local/envs/scPRAM/lib/python3.8/site-packages/scpram/models.py:121: UserWarning: torch.nn.utils.clip_grad_norm is now deprecated in favor of torch.nn.utils.clip_grad_norm_.\n",
            "  torch.nn.utils.clip_grad_norm(self.parameters(), 10)\n",
            "Training Epoch 99: 100% 100/100 [00:10<00:00,  9.94it/s, SCPRAM_loss=56.3, kl_loss=827, recon_loss=112]\n",
            "/usr/local/envs/scPRAM/lib/python3.8/site-packages/anndata/_core/anndata.py:1763: FutureWarning: The AnnData.concatenate method is deprecated in favour of the anndata.concat function. Please use anndata.concat instead.\n",
            "\n",
            "See the tutorial for concat at: https://anndata.readthedocs.io/en/latest/concatenation.html\n",
            "  warnings.warn(\n",
            "=== Running scPRAM for CD8T ===\n",
            "Training Epoch 0:   0% 0/100 [00:00<?, ?it/s]/usr/local/envs/scPRAM/lib/python3.8/site-packages/scpram/models.py:121: UserWarning: torch.nn.utils.clip_grad_norm is now deprecated in favor of torch.nn.utils.clip_grad_norm_.\n",
            "  torch.nn.utils.clip_grad_norm(self.parameters(), 10)\n",
            "Training Epoch 99: 100% 100/100 [00:10<00:00,  9.89it/s, SCPRAM_loss=57.5, kl_loss=831, recon_loss=115]\n",
            "/usr/local/envs/scPRAM/lib/python3.8/site-packages/anndata/_core/anndata.py:1763: FutureWarning: The AnnData.concatenate method is deprecated in favour of the anndata.concat function. Please use anndata.concat instead.\n",
            "\n",
            "See the tutorial for concat at: https://anndata.readthedocs.io/en/latest/concatenation.html\n",
            "  warnings.warn(\n",
            "=== Running scPRAM for Dendritic ===\n",
            "Training Epoch 0:   0% 0/100 [00:00<?, ?it/s]/usr/local/envs/scPRAM/lib/python3.8/site-packages/scpram/models.py:121: UserWarning: torch.nn.utils.clip_grad_norm is now deprecated in favor of torch.nn.utils.clip_grad_norm_.\n",
            "  torch.nn.utils.clip_grad_norm(self.parameters(), 10)\n",
            "Training Epoch 99: 100% 100/100 [00:10<00:00,  9.86it/s, SCPRAM_loss=58.4, kl_loss=798, recon_loss=116]\n",
            "/usr/local/envs/scPRAM/lib/python3.8/site-packages/anndata/_core/anndata.py:1763: FutureWarning: The AnnData.concatenate method is deprecated in favour of the anndata.concat function. Please use anndata.concat instead.\n",
            "\n",
            "See the tutorial for concat at: https://anndata.readthedocs.io/en/latest/concatenation.html\n",
            "  warnings.warn(\n",
            "✅ Done! Outputs saved in /content/scpram_outputs_full\n"
          ]
        }
      ]
    },
    {
      "cell_type": "markdown",
      "source": [
        "All outputs are being created in dedicated folders in the temporary Colab memory so download if you need to!"
      ],
      "metadata": {
        "id": "3wdwXfwKFAKv"
      }
    }
  ]
}