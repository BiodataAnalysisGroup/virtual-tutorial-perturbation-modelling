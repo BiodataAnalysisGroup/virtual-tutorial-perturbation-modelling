{
 "cells": [
  {
   "cell_type": "markdown",
   "id": "9c6c944d-d5d3-441f-9ea0-15e9695304ce",
   "metadata": {},
   "source": [
    "# scGen: a landmark generative model for unseen perturbations\n",
    "---"
   ]
  },
  {
   "cell_type": "markdown",
   "id": "6d8e86d9-c54d-49ec-8e15-c82525538ee3",
   "metadata": {},
   "source": [
    "## 1. Introduction"
   ]
  },
  {
   "cell_type": "markdown",
   "id": "ae0d42ec",
   "metadata": {},
   "source": [
    "Single-cell RNA-sequencing (scRNA-seq) has made it possible to measure how thousands of individual cells change their transcriptional programs in response to genetic, chemical, or environmental **perturbations**.  \n",
    "However, performing every possible perturbation in the wet lab is infeasible; the search space explodes combinatorially, and many experiments are costly or technically difficult.  \n",
    "\n",
    "**Perturbation‐response models**—such as **scGen**—aim to fill this gap by *predicting* how an unobserved condition would rewrite the transcriptome, given (i) gene-expression data from control cells and (ii) knowledge of a related perturbation. scGen combines a variational autoencoder with latent vector arithmetic to simulate “treated” cells that have never been sequenced. Yet a model is only as good as the evidence supporting it.  \n",
    "\n",
    "The goal of this notebook is therefore two-fold:\n",
    "1. **Methodological** – demonstrate a **reproducible benchmarking pipeline** for scGen using the Perturb-Bench toolbox.  \n",
    "2. **Practical** – show you how to inspect and interpret scGen’s predictions with both **statistical metrics** and **biological read-outs**.\n",
    "\n",
    "---"
   ]
  },
  {
   "cell_type": "markdown",
   "id": "41456c7c",
   "metadata": {},
   "source": [
    "### 1.1  What you will learn  \n",
    "\n",
    "| Step | Key concept | Why it matters |\n",
    "|------|-------------|----------------|\n",
    "| **Data loading** | AnnData, metadata harmonisation | Consistent structures make downstream analysis trivial. |\n",
    "| **Pre-processing** | Normalisation, highly-variable gene (HVG) selection | Removes technical noise and speeds up training. |\n",
    "| **Model training** | scGen VAE, latent arithmetic | Generates *in silico* perturbations. |\n",
    "| **Evaluation** | R², Pearson r, logFC overlap, distance metrics | Quantifies how close predictions are to real data. |\n",
    "| **Biological validation** | Gene regulatory networks, pathway enrichment, marker recovery | Tests whether predictions respect known biology. |\n",
    "\n",
    "---"
   ]
  },
  {
   "cell_type": "markdown",
   "id": "fd55da43",
   "metadata": {},
   "source": [
    "### 1.2  Why start with the [*Stephenson 2021*](https://figshare.com/articles/dataset/Stephenson_Covid-19_PBMC_2021_BCR/22132946?file=39347336) dataset?  \n",
    "\n",
    "*   It provides a clean **control vs LPS** immune-stimulation experiment with well-annotated cell types.  \n",
    "*   The subsample (~3 k cells) trains quickly on CPU/GPU, making it ideal for a workshop setting.  \n",
    "*   Its moderate complexity lets us illustrate the full pipeline **without** overwhelming computational cost.\n",
    "\n",
    "> **Beyond this tutorial**  \n",
    "> The same workflow generalises to multi-study, cross-species, temporal, or disease-state perturbations—simply swap in a different `pt.data.*` loader or your own `.h5ad` file.\n",
    "\n",
    "---"
   ]
  },
  {
   "cell_type": "markdown",
   "id": "3018b82e",
   "metadata": {},
   "source": [
    "### 1.3  Roadmap  \n",
    "\n",
    "1. **Load & explore data** *(Stephenson 2021, control vs LPS)*  \n",
    "2. **Pre-process** counts → logCPM, select 2 000 HVGs  \n",
    "3. **Train scGen** (30 epochs) with reproducible seeds  \n",
    "4. **Score predictions** using both statistical and biological metrics  \n",
    "5. **Visualise** true vs predicted log fold-changes  \n",
    "6. **Save** the trained model and processed dataset for future work\n",
    "\n",
    "Let’s jump in!\n",
    "\n",
    "---"
   ]
  },
  {
   "cell_type": "markdown",
   "id": "86402f65",
   "metadata": {},
   "source": [
    "## 2. Environment Setup & Imports"
   ]
  },
  {
   "cell_type": "code",
   "execution_count": 1,
   "id": "6f7d037d-b290-49f3-a2a9-4ca88f17669f",
   "metadata": {},
   "outputs": [
    {
     "name": "stdout",
     "output_type": "stream",
     "text": [
      "Random seed set to 42\n"
     ]
    }
   ],
   "source": [
    "# --- Standard-library utilities ------------------------------------------------\n",
    "import os                 # file-system operations (e.g. os.environ or os.path)\n",
    "import sys                # Python runtime details; we use it for version checks\n",
    "import time               # simple timing / benchmarking of cells\n",
    "from pathlib import Path  # convenient, cross-platform path handling\n",
    "from collections import OrderedDict  # deterministic dicts for reproducible logs\n",
    "import random             # Python RNG (seeded below for reproducibility)\n",
    "\n",
    "# --- Numerical & data-handling stack ------------------------------------------\n",
    "import numpy as np        # dense numerical arrays\n",
    "import pandas as pd       # tabular data frames\n",
    "from scipy import sparse  # sparse matrix utilities\n",
    "from scipy import stats   # statistical functions (e.g. t-tests, correlations)\n",
    "from scipy.spatial.distance import cosine as cosine_dist, cdist  # distance metrics\n",
    "\n",
    "# --- Single-cell analysis ecosystem -------------------------------------------\n",
    "import scanpy as sc       # core single-cell workflow (AnnData, QC, plotting)\n",
    "import pertpy as pt       # Perturb-Bench helpers: dataset loaders & metrics\n",
    "from scvi import REGISTRY_KEYS  # keys used by scvi-tools / scGen for AnnData metadata\n",
    "\n",
    "# --- Deep-learning backend -----------------------------------------------------\n",
    "import torch              # PyTorch (Tensor operations and GPU acceleration)\n",
    "\n",
    "# --- Machine-learning utilities ----------------------------------------------\n",
    "from sklearn.decomposition import PCA                # dimensionality reduction\n",
    "from sklearn.linear_model import LogisticRegression  # classifier used in metrics\n",
    "from sklearn.neighbors import KernelDensity          # density estimation\n",
    "from sklearn.metrics import (\n",
    "    pairwise_distances,   # generic distance matrix\n",
    "    silhouette_score,     # clustering quality\n",
    "    roc_auc_score         # AUROC for binary classification tasks\n",
    ")\n",
    "\n",
    "# --- Plotting & visualisation --------------------------------------------------\n",
    "import matplotlib.pyplot as plt  # base plotting library\n",
    "import seaborn as sns            # higher-level statistical plots\n",
    "\n",
    "# --- Global reproducibility ----------------------------------------------------\n",
    "SEED = 42\n",
    "random.seed(SEED)\n",
    "np.random.seed(SEED)\n",
    "torch.manual_seed(SEED)\n",
    "torch.backends.cudnn.deterministic = True   # exact determinism (may reduce speed)\n",
    "torch.backends.cudnn.benchmark = False\n",
    "\n",
    "print(f\"Random seed set to {SEED}\")"
   ]
  },
  {
   "cell_type": "markdown",
   "id": "a86ad945",
   "metadata": {},
   "source": [
    "---"
   ]
  },
  {
   "cell_type": "markdown",
   "id": "3f7cbf28-b521-46a3-9c4b-05685600bf19",
   "metadata": {},
   "source": [
    "## 3. Data Exploration & Preparation"
   ]
  },
  {
   "cell_type": "markdown",
   "id": "67aeb917-f117-446e-bf38-0865ebe4f1f0",
   "metadata": {},
   "source": [
    "### 3.1 Loading and Exploring the *Stephenson 2021* dataset\n",
    "\n",
    "We begin by loading a subsampled version of the *Stephenson 2021* dataset that will be used throughout this notebook."
   ]
  },
  {
   "cell_type": "code",
   "execution_count": 2,
   "id": "3578deb5-aea0-4aa7-9a7b-fe4519b1df6d",
   "metadata": {},
   "outputs": [
    {
     "data": {
      "text/plain": [
       "AnnData object with n_obs × n_vars = 62509 × 16299\n",
       "    obs: 'Collection_Day', 'Swab_result', 'Status', 'Smoker', 'Status_on_day_collection', 'Status_on_day_collection_summary', 'Days_from_onset', 'Site', 'time_after_LPS', 'Worst_Clinical_Status', 'Outcome', 'patient_id', 'author_cell_type', 'organism', 'sex', 'tissue', 'ethnicity', 'disease', 'assay', 'cell_type', 'dataset_group'\n",
       "    var: 'gene_id', 'gene_name'\n",
       "    uns: 'log1p', 'umap'\n",
       "    obsm: 'X_scVI', 'X_umap'"
      ]
     },
     "execution_count": 2,
     "metadata": {},
     "output_type": "execute_result"
    }
   ],
   "source": [
    "# adata = pt.data.stephenson_2021_subsampled() # loading the data by downloading the file\n",
    "adata = sc.read('data/stephenson_2021_subsampled.h5ad') # loading the data directly from the file\n",
    "\n",
    "adata # viewing the data"
   ]
  },
  {
   "cell_type": "markdown",
   "id": "9c5fe06e",
   "metadata": {},
   "source": [
    "[`AnnData`](https://anndata.readthedocs.io/) is the de-facto container for single-cell data in Python (used by **Scanpy**, **scvi-tools**, **Perturb-Bench**, and many other packages). Think of it as a tidy “Excel workbook” with one big table of gene expression and several *linked* annotation sheets:\n",
    "\n",
    "| Attribute | Purpose | In our dataset |\n",
    "|-----------|---------|----------------|\n",
    "| **`.X`** *(n_obs × n_vars)* | The main numerical matrix – usually raw counts, log-counts, or latent embeddings. Rows = **cells** (*observations*), columns = **genes** (*variables*). | 62,509 cells (drawn from peripheral blood mononuclear cells (PBMCs)) × 16,299 genes (log-normalised counts, after basic filtering by the original authors). |\n",
    "| **`.obs`** | Per-cell metadata (pandas `DataFrame`). | 21 columns – e.g. `cell_type`, `time_after_LPS`, `patient_id`, `Status` (control, Covid, LPS). |\n",
    "| **`.var`** | Per-gene metadata. | `gene_id`, `gene_name`. |\n",
    "| **`.layers`** | Alternative expressions of `.X` (raw counts, denoised counts, predictions …). | Empty for now – we’ll add `counts` and `corrected` later. |\n",
    "| **`.uns`** | Unstructured info: colour maps, model parameters, etc. | Contains Scanpy’s `log1p` settings and pre-computed UMAP. |\n",
    "| **`.obsm` / `.varm`** | Multi-dimensional annotations (matrices): embeddings, feature scores. | `X_umap` (2-D UMAP) and `X_scVI` (latent space). |\n",
    "| **`.obsp` / `.varp`** | Pairwise matrices (graphs, distances). | Not present yet. |"
   ]
  },
  {
   "cell_type": "code",
   "execution_count": 3,
   "id": "7d610d05",
   "metadata": {},
   "outputs": [
    {
     "data": {
      "application/vnd.microsoft.datawrangler.viewer.v0+json": {
       "columns": [
        {
         "name": "index",
         "rawType": "object",
         "type": "string"
        },
        {
         "name": "Collection_Day",
         "rawType": "category",
         "type": "unknown"
        },
        {
         "name": "Swab_result",
         "rawType": "category",
         "type": "unknown"
        },
        {
         "name": "Status",
         "rawType": "category",
         "type": "unknown"
        },
        {
         "name": "Smoker",
         "rawType": "category",
         "type": "unknown"
        },
        {
         "name": "Status_on_day_collection",
         "rawType": "category",
         "type": "unknown"
        },
        {
         "name": "Status_on_day_collection_summary",
         "rawType": "category",
         "type": "unknown"
        },
        {
         "name": "Days_from_onset",
         "rawType": "category",
         "type": "unknown"
        },
        {
         "name": "Site",
         "rawType": "category",
         "type": "unknown"
        },
        {
         "name": "time_after_LPS",
         "rawType": "category",
         "type": "unknown"
        },
        {
         "name": "Worst_Clinical_Status",
         "rawType": "category",
         "type": "unknown"
        },
        {
         "name": "Outcome",
         "rawType": "category",
         "type": "unknown"
        },
        {
         "name": "patient_id",
         "rawType": "category",
         "type": "unknown"
        },
        {
         "name": "author_cell_type",
         "rawType": "category",
         "type": "unknown"
        },
        {
         "name": "organism",
         "rawType": "category",
         "type": "unknown"
        },
        {
         "name": "sex",
         "rawType": "category",
         "type": "unknown"
        },
        {
         "name": "tissue",
         "rawType": "category",
         "type": "unknown"
        },
        {
         "name": "ethnicity",
         "rawType": "category",
         "type": "unknown"
        },
        {
         "name": "disease",
         "rawType": "category",
         "type": "unknown"
        },
        {
         "name": "assay",
         "rawType": "category",
         "type": "unknown"
        },
        {
         "name": "cell_type",
         "rawType": "category",
         "type": "unknown"
        },
        {
         "name": "dataset_group",
         "rawType": "category",
         "type": "unknown"
        }
       ],
       "ref": "3efa2c1f-62c7-46ef-88a6-1469e5ce568c",
       "rows": [
        [
         "10_1038_s41591_021_01329_2-S11_GAGTCCGGTTCAGGCC-1",
         "D0",
         "Positive",
         "Covid",
         "Smoker",
         "ITU_NIV",
         "Severe",
         "28",
         "Sanger",
         "nan",
         "nan",
         "unknown",
         "AP1",
         "CD4.Tfh",
         "Homo sapiens",
         "male",
         "blood",
         "unknown",
         "COVID-19",
         "10x 3' transcription profiling",
         "T follicular helper cell",
         "P"
        ],
        [
         "10_1038_s41591_021_01329_2-S12_ACTGTCCTCTCGTATT-1",
         "D0",
         "Positive",
         "Covid",
         "Smoker",
         "ITU_NIV",
         "Severe",
         "28",
         "Sanger",
         "nan",
         "nan",
         "unknown",
         "AP1",
         "CD4.CM",
         "Homo sapiens",
         "male",
         "blood",
         "unknown",
         "COVID-19",
         "10x 3' transcription profiling",
         "central memory CD4-positive, alpha-beta T cell",
         "P"
        ],
        [
         "10_1038_s41591_021_01329_2-S12_CTCTAATAGTTTCCTT-1",
         "D0",
         "Positive",
         "Covid",
         "Smoker",
         "ITU_NIV",
         "Severe",
         "28",
         "Sanger",
         "nan",
         "nan",
         "unknown",
         "AP1",
         "NK_16hi",
         "Homo sapiens",
         "male",
         "blood",
         "unknown",
         "COVID-19",
         "10x 3' transcription profiling",
         "CD16-positive, CD56-dim natural killer cell, human",
         "P"
        ],
        [
         "10_1038_s41591_021_01329_2-S12_GCATACAGTAATCGTC-1",
         "D0",
         "Positive",
         "Covid",
         "Smoker",
         "ITU_NIV",
         "Severe",
         "28",
         "Sanger",
         "nan",
         "nan",
         "unknown",
         "AP1",
         "CD8.Naive",
         "Homo sapiens",
         "male",
         "blood",
         "unknown",
         "COVID-19",
         "10x 3' transcription profiling",
         "naive thymus-derived CD8-positive, alpha-beta T cell",
         "P"
        ],
        [
         "10_1038_s41591_021_01329_2-S12_GACTGCGTCCTTTCGG-1",
         "D0",
         "Positive",
         "Covid",
         "Smoker",
         "ITU_NIV",
         "Severe",
         "28",
         "Sanger",
         "nan",
         "nan",
         "unknown",
         "AP1",
         "NK_16hi",
         "Homo sapiens",
         "male",
         "blood",
         "unknown",
         "COVID-19",
         "10x 3' transcription profiling",
         "CD16-positive, CD56-dim natural killer cell, human",
         "P"
        ],
        [
         "10_1038_s41591_021_01329_2-S11_CAAGGCCAGGGATGGG-1",
         "D0",
         "Positive",
         "Covid",
         "Smoker",
         "ITU_NIV",
         "Severe",
         "28",
         "Sanger",
         "nan",
         "nan",
         "unknown",
         "AP1",
         "CD14_mono",
         "Homo sapiens",
         "male",
         "blood",
         "unknown",
         "COVID-19",
         "10x 3' transcription profiling",
         "CD14-positive monocyte",
         "P"
        ],
        [
         "10_1038_s41591_021_01329_2-S11_CGGTTAATCGGATGGA-1",
         "D0",
         "Positive",
         "Covid",
         "Smoker",
         "ITU_NIV",
         "Severe",
         "28",
         "Sanger",
         "nan",
         "nan",
         "unknown",
         "AP1",
         "CD8.EM",
         "Homo sapiens",
         "male",
         "blood",
         "unknown",
         "COVID-19",
         "10x 3' transcription profiling",
         "effector memory CD8-positive, alpha-beta T cell",
         "P"
        ],
        [
         "10_1038_s41591_021_01329_2-S11_GATCTAGTCACTATTC-1",
         "D0",
         "Positive",
         "Covid",
         "Smoker",
         "ITU_NIV",
         "Severe",
         "28",
         "Sanger",
         "nan",
         "nan",
         "unknown",
         "AP1",
         "B_naive",
         "Homo sapiens",
         "male",
         "blood",
         "unknown",
         "COVID-19",
         "10x 3' transcription profiling",
         "naive B cell",
         "P"
        ],
        [
         "10_1038_s41591_021_01329_2-S11_CATGACAAGGTGCACA-1",
         "D0",
         "Positive",
         "Covid",
         "Smoker",
         "ITU_NIV",
         "Severe",
         "28",
         "Sanger",
         "nan",
         "nan",
         "unknown",
         "AP1",
         "CD4.CM",
         "Homo sapiens",
         "male",
         "blood",
         "unknown",
         "COVID-19",
         "10x 3' transcription profiling",
         "central memory CD4-positive, alpha-beta T cell",
         "P"
        ],
        [
         "10_1038_s41591_021_01329_2-S12_CTCGGAGTCCGTTGCT-1",
         "D0",
         "Positive",
         "Covid",
         "Smoker",
         "ITU_NIV",
         "Severe",
         "28",
         "Sanger",
         "nan",
         "nan",
         "unknown",
         "AP1",
         "gdT",
         "Homo sapiens",
         "male",
         "blood",
         "unknown",
         "COVID-19",
         "10x 3' transcription profiling",
         "gamma-delta T cell",
         "P"
        ]
       ],
       "shape": {
        "columns": 21,
        "rows": 10
       }
      },
      "text/html": [
       "<div>\n",
       "<style scoped>\n",
       "    .dataframe tbody tr th:only-of-type {\n",
       "        vertical-align: middle;\n",
       "    }\n",
       "\n",
       "    .dataframe tbody tr th {\n",
       "        vertical-align: top;\n",
       "    }\n",
       "\n",
       "    .dataframe thead th {\n",
       "        text-align: right;\n",
       "    }\n",
       "</style>\n",
       "<table border=\"1\" class=\"dataframe\">\n",
       "  <thead>\n",
       "    <tr style=\"text-align: right;\">\n",
       "      <th></th>\n",
       "      <th>Collection_Day</th>\n",
       "      <th>Swab_result</th>\n",
       "      <th>Status</th>\n",
       "      <th>Smoker</th>\n",
       "      <th>Status_on_day_collection</th>\n",
       "      <th>Status_on_day_collection_summary</th>\n",
       "      <th>Days_from_onset</th>\n",
       "      <th>Site</th>\n",
       "      <th>time_after_LPS</th>\n",
       "      <th>Worst_Clinical_Status</th>\n",
       "      <th>...</th>\n",
       "      <th>patient_id</th>\n",
       "      <th>author_cell_type</th>\n",
       "      <th>organism</th>\n",
       "      <th>sex</th>\n",
       "      <th>tissue</th>\n",
       "      <th>ethnicity</th>\n",
       "      <th>disease</th>\n",
       "      <th>assay</th>\n",
       "      <th>cell_type</th>\n",
       "      <th>dataset_group</th>\n",
       "    </tr>\n",
       "  </thead>\n",
       "  <tbody>\n",
       "    <tr>\n",
       "      <th>10_1038_s41591_021_01329_2-S11_GAGTCCGGTTCAGGCC-1</th>\n",
       "      <td>D0</td>\n",
       "      <td>Positive</td>\n",
       "      <td>Covid</td>\n",
       "      <td>Smoker</td>\n",
       "      <td>ITU_NIV</td>\n",
       "      <td>Severe</td>\n",
       "      <td>28</td>\n",
       "      <td>Sanger</td>\n",
       "      <td>nan</td>\n",
       "      <td>nan</td>\n",
       "      <td>...</td>\n",
       "      <td>AP1</td>\n",
       "      <td>CD4.Tfh</td>\n",
       "      <td>Homo sapiens</td>\n",
       "      <td>male</td>\n",
       "      <td>blood</td>\n",
       "      <td>unknown</td>\n",
       "      <td>COVID-19</td>\n",
       "      <td>10x 3' transcription profiling</td>\n",
       "      <td>T follicular helper cell</td>\n",
       "      <td>P</td>\n",
       "    </tr>\n",
       "    <tr>\n",
       "      <th>10_1038_s41591_021_01329_2-S12_ACTGTCCTCTCGTATT-1</th>\n",
       "      <td>D0</td>\n",
       "      <td>Positive</td>\n",
       "      <td>Covid</td>\n",
       "      <td>Smoker</td>\n",
       "      <td>ITU_NIV</td>\n",
       "      <td>Severe</td>\n",
       "      <td>28</td>\n",
       "      <td>Sanger</td>\n",
       "      <td>nan</td>\n",
       "      <td>nan</td>\n",
       "      <td>...</td>\n",
       "      <td>AP1</td>\n",
       "      <td>CD4.CM</td>\n",
       "      <td>Homo sapiens</td>\n",
       "      <td>male</td>\n",
       "      <td>blood</td>\n",
       "      <td>unknown</td>\n",
       "      <td>COVID-19</td>\n",
       "      <td>10x 3' transcription profiling</td>\n",
       "      <td>central memory CD4-positive, alpha-beta T cell</td>\n",
       "      <td>P</td>\n",
       "    </tr>\n",
       "    <tr>\n",
       "      <th>10_1038_s41591_021_01329_2-S12_CTCTAATAGTTTCCTT-1</th>\n",
       "      <td>D0</td>\n",
       "      <td>Positive</td>\n",
       "      <td>Covid</td>\n",
       "      <td>Smoker</td>\n",
       "      <td>ITU_NIV</td>\n",
       "      <td>Severe</td>\n",
       "      <td>28</td>\n",
       "      <td>Sanger</td>\n",
       "      <td>nan</td>\n",
       "      <td>nan</td>\n",
       "      <td>...</td>\n",
       "      <td>AP1</td>\n",
       "      <td>NK_16hi</td>\n",
       "      <td>Homo sapiens</td>\n",
       "      <td>male</td>\n",
       "      <td>blood</td>\n",
       "      <td>unknown</td>\n",
       "      <td>COVID-19</td>\n",
       "      <td>10x 3' transcription profiling</td>\n",
       "      <td>CD16-positive, CD56-dim natural killer cell, h...</td>\n",
       "      <td>P</td>\n",
       "    </tr>\n",
       "    <tr>\n",
       "      <th>10_1038_s41591_021_01329_2-S12_GCATACAGTAATCGTC-1</th>\n",
       "      <td>D0</td>\n",
       "      <td>Positive</td>\n",
       "      <td>Covid</td>\n",
       "      <td>Smoker</td>\n",
       "      <td>ITU_NIV</td>\n",
       "      <td>Severe</td>\n",
       "      <td>28</td>\n",
       "      <td>Sanger</td>\n",
       "      <td>nan</td>\n",
       "      <td>nan</td>\n",
       "      <td>...</td>\n",
       "      <td>AP1</td>\n",
       "      <td>CD8.Naive</td>\n",
       "      <td>Homo sapiens</td>\n",
       "      <td>male</td>\n",
       "      <td>blood</td>\n",
       "      <td>unknown</td>\n",
       "      <td>COVID-19</td>\n",
       "      <td>10x 3' transcription profiling</td>\n",
       "      <td>naive thymus-derived CD8-positive, alpha-beta ...</td>\n",
       "      <td>P</td>\n",
       "    </tr>\n",
       "    <tr>\n",
       "      <th>10_1038_s41591_021_01329_2-S12_GACTGCGTCCTTTCGG-1</th>\n",
       "      <td>D0</td>\n",
       "      <td>Positive</td>\n",
       "      <td>Covid</td>\n",
       "      <td>Smoker</td>\n",
       "      <td>ITU_NIV</td>\n",
       "      <td>Severe</td>\n",
       "      <td>28</td>\n",
       "      <td>Sanger</td>\n",
       "      <td>nan</td>\n",
       "      <td>nan</td>\n",
       "      <td>...</td>\n",
       "      <td>AP1</td>\n",
       "      <td>NK_16hi</td>\n",
       "      <td>Homo sapiens</td>\n",
       "      <td>male</td>\n",
       "      <td>blood</td>\n",
       "      <td>unknown</td>\n",
       "      <td>COVID-19</td>\n",
       "      <td>10x 3' transcription profiling</td>\n",
       "      <td>CD16-positive, CD56-dim natural killer cell, h...</td>\n",
       "      <td>P</td>\n",
       "    </tr>\n",
       "    <tr>\n",
       "      <th>10_1038_s41591_021_01329_2-S11_CAAGGCCAGGGATGGG-1</th>\n",
       "      <td>D0</td>\n",
       "      <td>Positive</td>\n",
       "      <td>Covid</td>\n",
       "      <td>Smoker</td>\n",
       "      <td>ITU_NIV</td>\n",
       "      <td>Severe</td>\n",
       "      <td>28</td>\n",
       "      <td>Sanger</td>\n",
       "      <td>nan</td>\n",
       "      <td>nan</td>\n",
       "      <td>...</td>\n",
       "      <td>AP1</td>\n",
       "      <td>CD14_mono</td>\n",
       "      <td>Homo sapiens</td>\n",
       "      <td>male</td>\n",
       "      <td>blood</td>\n",
       "      <td>unknown</td>\n",
       "      <td>COVID-19</td>\n",
       "      <td>10x 3' transcription profiling</td>\n",
       "      <td>CD14-positive monocyte</td>\n",
       "      <td>P</td>\n",
       "    </tr>\n",
       "    <tr>\n",
       "      <th>10_1038_s41591_021_01329_2-S11_CGGTTAATCGGATGGA-1</th>\n",
       "      <td>D0</td>\n",
       "      <td>Positive</td>\n",
       "      <td>Covid</td>\n",
       "      <td>Smoker</td>\n",
       "      <td>ITU_NIV</td>\n",
       "      <td>Severe</td>\n",
       "      <td>28</td>\n",
       "      <td>Sanger</td>\n",
       "      <td>nan</td>\n",
       "      <td>nan</td>\n",
       "      <td>...</td>\n",
       "      <td>AP1</td>\n",
       "      <td>CD8.EM</td>\n",
       "      <td>Homo sapiens</td>\n",
       "      <td>male</td>\n",
       "      <td>blood</td>\n",
       "      <td>unknown</td>\n",
       "      <td>COVID-19</td>\n",
       "      <td>10x 3' transcription profiling</td>\n",
       "      <td>effector memory CD8-positive, alpha-beta T cell</td>\n",
       "      <td>P</td>\n",
       "    </tr>\n",
       "    <tr>\n",
       "      <th>10_1038_s41591_021_01329_2-S11_GATCTAGTCACTATTC-1</th>\n",
       "      <td>D0</td>\n",
       "      <td>Positive</td>\n",
       "      <td>Covid</td>\n",
       "      <td>Smoker</td>\n",
       "      <td>ITU_NIV</td>\n",
       "      <td>Severe</td>\n",
       "      <td>28</td>\n",
       "      <td>Sanger</td>\n",
       "      <td>nan</td>\n",
       "      <td>nan</td>\n",
       "      <td>...</td>\n",
       "      <td>AP1</td>\n",
       "      <td>B_naive</td>\n",
       "      <td>Homo sapiens</td>\n",
       "      <td>male</td>\n",
       "      <td>blood</td>\n",
       "      <td>unknown</td>\n",
       "      <td>COVID-19</td>\n",
       "      <td>10x 3' transcription profiling</td>\n",
       "      <td>naive B cell</td>\n",
       "      <td>P</td>\n",
       "    </tr>\n",
       "    <tr>\n",
       "      <th>10_1038_s41591_021_01329_2-S11_CATGACAAGGTGCACA-1</th>\n",
       "      <td>D0</td>\n",
       "      <td>Positive</td>\n",
       "      <td>Covid</td>\n",
       "      <td>Smoker</td>\n",
       "      <td>ITU_NIV</td>\n",
       "      <td>Severe</td>\n",
       "      <td>28</td>\n",
       "      <td>Sanger</td>\n",
       "      <td>nan</td>\n",
       "      <td>nan</td>\n",
       "      <td>...</td>\n",
       "      <td>AP1</td>\n",
       "      <td>CD4.CM</td>\n",
       "      <td>Homo sapiens</td>\n",
       "      <td>male</td>\n",
       "      <td>blood</td>\n",
       "      <td>unknown</td>\n",
       "      <td>COVID-19</td>\n",
       "      <td>10x 3' transcription profiling</td>\n",
       "      <td>central memory CD4-positive, alpha-beta T cell</td>\n",
       "      <td>P</td>\n",
       "    </tr>\n",
       "    <tr>\n",
       "      <th>10_1038_s41591_021_01329_2-S12_CTCGGAGTCCGTTGCT-1</th>\n",
       "      <td>D0</td>\n",
       "      <td>Positive</td>\n",
       "      <td>Covid</td>\n",
       "      <td>Smoker</td>\n",
       "      <td>ITU_NIV</td>\n",
       "      <td>Severe</td>\n",
       "      <td>28</td>\n",
       "      <td>Sanger</td>\n",
       "      <td>nan</td>\n",
       "      <td>nan</td>\n",
       "      <td>...</td>\n",
       "      <td>AP1</td>\n",
       "      <td>gdT</td>\n",
       "      <td>Homo sapiens</td>\n",
       "      <td>male</td>\n",
       "      <td>blood</td>\n",
       "      <td>unknown</td>\n",
       "      <td>COVID-19</td>\n",
       "      <td>10x 3' transcription profiling</td>\n",
       "      <td>gamma-delta T cell</td>\n",
       "      <td>P</td>\n",
       "    </tr>\n",
       "  </tbody>\n",
       "</table>\n",
       "<p>10 rows × 21 columns</p>\n",
       "</div>"
      ],
      "text/plain": [
       "                                                  Collection_Day Swab_result  \\\n",
       "10_1038_s41591_021_01329_2-S11_GAGTCCGGTTCAGGCC-1             D0    Positive   \n",
       "10_1038_s41591_021_01329_2-S12_ACTGTCCTCTCGTATT-1             D0    Positive   \n",
       "10_1038_s41591_021_01329_2-S12_CTCTAATAGTTTCCTT-1             D0    Positive   \n",
       "10_1038_s41591_021_01329_2-S12_GCATACAGTAATCGTC-1             D0    Positive   \n",
       "10_1038_s41591_021_01329_2-S12_GACTGCGTCCTTTCGG-1             D0    Positive   \n",
       "10_1038_s41591_021_01329_2-S11_CAAGGCCAGGGATGGG-1             D0    Positive   \n",
       "10_1038_s41591_021_01329_2-S11_CGGTTAATCGGATGGA-1             D0    Positive   \n",
       "10_1038_s41591_021_01329_2-S11_GATCTAGTCACTATTC-1             D0    Positive   \n",
       "10_1038_s41591_021_01329_2-S11_CATGACAAGGTGCACA-1             D0    Positive   \n",
       "10_1038_s41591_021_01329_2-S12_CTCGGAGTCCGTTGCT-1             D0    Positive   \n",
       "\n",
       "                                                  Status  Smoker  \\\n",
       "10_1038_s41591_021_01329_2-S11_GAGTCCGGTTCAGGCC-1  Covid  Smoker   \n",
       "10_1038_s41591_021_01329_2-S12_ACTGTCCTCTCGTATT-1  Covid  Smoker   \n",
       "10_1038_s41591_021_01329_2-S12_CTCTAATAGTTTCCTT-1  Covid  Smoker   \n",
       "10_1038_s41591_021_01329_2-S12_GCATACAGTAATCGTC-1  Covid  Smoker   \n",
       "10_1038_s41591_021_01329_2-S12_GACTGCGTCCTTTCGG-1  Covid  Smoker   \n",
       "10_1038_s41591_021_01329_2-S11_CAAGGCCAGGGATGGG-1  Covid  Smoker   \n",
       "10_1038_s41591_021_01329_2-S11_CGGTTAATCGGATGGA-1  Covid  Smoker   \n",
       "10_1038_s41591_021_01329_2-S11_GATCTAGTCACTATTC-1  Covid  Smoker   \n",
       "10_1038_s41591_021_01329_2-S11_CATGACAAGGTGCACA-1  Covid  Smoker   \n",
       "10_1038_s41591_021_01329_2-S12_CTCGGAGTCCGTTGCT-1  Covid  Smoker   \n",
       "\n",
       "                                                  Status_on_day_collection  \\\n",
       "10_1038_s41591_021_01329_2-S11_GAGTCCGGTTCAGGCC-1                  ITU_NIV   \n",
       "10_1038_s41591_021_01329_2-S12_ACTGTCCTCTCGTATT-1                  ITU_NIV   \n",
       "10_1038_s41591_021_01329_2-S12_CTCTAATAGTTTCCTT-1                  ITU_NIV   \n",
       "10_1038_s41591_021_01329_2-S12_GCATACAGTAATCGTC-1                  ITU_NIV   \n",
       "10_1038_s41591_021_01329_2-S12_GACTGCGTCCTTTCGG-1                  ITU_NIV   \n",
       "10_1038_s41591_021_01329_2-S11_CAAGGCCAGGGATGGG-1                  ITU_NIV   \n",
       "10_1038_s41591_021_01329_2-S11_CGGTTAATCGGATGGA-1                  ITU_NIV   \n",
       "10_1038_s41591_021_01329_2-S11_GATCTAGTCACTATTC-1                  ITU_NIV   \n",
       "10_1038_s41591_021_01329_2-S11_CATGACAAGGTGCACA-1                  ITU_NIV   \n",
       "10_1038_s41591_021_01329_2-S12_CTCGGAGTCCGTTGCT-1                  ITU_NIV   \n",
       "\n",
       "                                                  Status_on_day_collection_summary  \\\n",
       "10_1038_s41591_021_01329_2-S11_GAGTCCGGTTCAGGCC-1                           Severe   \n",
       "10_1038_s41591_021_01329_2-S12_ACTGTCCTCTCGTATT-1                           Severe   \n",
       "10_1038_s41591_021_01329_2-S12_CTCTAATAGTTTCCTT-1                           Severe   \n",
       "10_1038_s41591_021_01329_2-S12_GCATACAGTAATCGTC-1                           Severe   \n",
       "10_1038_s41591_021_01329_2-S12_GACTGCGTCCTTTCGG-1                           Severe   \n",
       "10_1038_s41591_021_01329_2-S11_CAAGGCCAGGGATGGG-1                           Severe   \n",
       "10_1038_s41591_021_01329_2-S11_CGGTTAATCGGATGGA-1                           Severe   \n",
       "10_1038_s41591_021_01329_2-S11_GATCTAGTCACTATTC-1                           Severe   \n",
       "10_1038_s41591_021_01329_2-S11_CATGACAAGGTGCACA-1                           Severe   \n",
       "10_1038_s41591_021_01329_2-S12_CTCGGAGTCCGTTGCT-1                           Severe   \n",
       "\n",
       "                                                  Days_from_onset    Site  \\\n",
       "10_1038_s41591_021_01329_2-S11_GAGTCCGGTTCAGGCC-1              28  Sanger   \n",
       "10_1038_s41591_021_01329_2-S12_ACTGTCCTCTCGTATT-1              28  Sanger   \n",
       "10_1038_s41591_021_01329_2-S12_CTCTAATAGTTTCCTT-1              28  Sanger   \n",
       "10_1038_s41591_021_01329_2-S12_GCATACAGTAATCGTC-1              28  Sanger   \n",
       "10_1038_s41591_021_01329_2-S12_GACTGCGTCCTTTCGG-1              28  Sanger   \n",
       "10_1038_s41591_021_01329_2-S11_CAAGGCCAGGGATGGG-1              28  Sanger   \n",
       "10_1038_s41591_021_01329_2-S11_CGGTTAATCGGATGGA-1              28  Sanger   \n",
       "10_1038_s41591_021_01329_2-S11_GATCTAGTCACTATTC-1              28  Sanger   \n",
       "10_1038_s41591_021_01329_2-S11_CATGACAAGGTGCACA-1              28  Sanger   \n",
       "10_1038_s41591_021_01329_2-S12_CTCGGAGTCCGTTGCT-1              28  Sanger   \n",
       "\n",
       "                                                  time_after_LPS  \\\n",
       "10_1038_s41591_021_01329_2-S11_GAGTCCGGTTCAGGCC-1            nan   \n",
       "10_1038_s41591_021_01329_2-S12_ACTGTCCTCTCGTATT-1            nan   \n",
       "10_1038_s41591_021_01329_2-S12_CTCTAATAGTTTCCTT-1            nan   \n",
       "10_1038_s41591_021_01329_2-S12_GCATACAGTAATCGTC-1            nan   \n",
       "10_1038_s41591_021_01329_2-S12_GACTGCGTCCTTTCGG-1            nan   \n",
       "10_1038_s41591_021_01329_2-S11_CAAGGCCAGGGATGGG-1            nan   \n",
       "10_1038_s41591_021_01329_2-S11_CGGTTAATCGGATGGA-1            nan   \n",
       "10_1038_s41591_021_01329_2-S11_GATCTAGTCACTATTC-1            nan   \n",
       "10_1038_s41591_021_01329_2-S11_CATGACAAGGTGCACA-1            nan   \n",
       "10_1038_s41591_021_01329_2-S12_CTCGGAGTCCGTTGCT-1            nan   \n",
       "\n",
       "                                                  Worst_Clinical_Status  ...  \\\n",
       "10_1038_s41591_021_01329_2-S11_GAGTCCGGTTCAGGCC-1                   nan  ...   \n",
       "10_1038_s41591_021_01329_2-S12_ACTGTCCTCTCGTATT-1                   nan  ...   \n",
       "10_1038_s41591_021_01329_2-S12_CTCTAATAGTTTCCTT-1                   nan  ...   \n",
       "10_1038_s41591_021_01329_2-S12_GCATACAGTAATCGTC-1                   nan  ...   \n",
       "10_1038_s41591_021_01329_2-S12_GACTGCGTCCTTTCGG-1                   nan  ...   \n",
       "10_1038_s41591_021_01329_2-S11_CAAGGCCAGGGATGGG-1                   nan  ...   \n",
       "10_1038_s41591_021_01329_2-S11_CGGTTAATCGGATGGA-1                   nan  ...   \n",
       "10_1038_s41591_021_01329_2-S11_GATCTAGTCACTATTC-1                   nan  ...   \n",
       "10_1038_s41591_021_01329_2-S11_CATGACAAGGTGCACA-1                   nan  ...   \n",
       "10_1038_s41591_021_01329_2-S12_CTCGGAGTCCGTTGCT-1                   nan  ...   \n",
       "\n",
       "                                                  patient_id author_cell_type  \\\n",
       "10_1038_s41591_021_01329_2-S11_GAGTCCGGTTCAGGCC-1        AP1          CD4.Tfh   \n",
       "10_1038_s41591_021_01329_2-S12_ACTGTCCTCTCGTATT-1        AP1           CD4.CM   \n",
       "10_1038_s41591_021_01329_2-S12_CTCTAATAGTTTCCTT-1        AP1          NK_16hi   \n",
       "10_1038_s41591_021_01329_2-S12_GCATACAGTAATCGTC-1        AP1        CD8.Naive   \n",
       "10_1038_s41591_021_01329_2-S12_GACTGCGTCCTTTCGG-1        AP1          NK_16hi   \n",
       "10_1038_s41591_021_01329_2-S11_CAAGGCCAGGGATGGG-1        AP1        CD14_mono   \n",
       "10_1038_s41591_021_01329_2-S11_CGGTTAATCGGATGGA-1        AP1           CD8.EM   \n",
       "10_1038_s41591_021_01329_2-S11_GATCTAGTCACTATTC-1        AP1          B_naive   \n",
       "10_1038_s41591_021_01329_2-S11_CATGACAAGGTGCACA-1        AP1           CD4.CM   \n",
       "10_1038_s41591_021_01329_2-S12_CTCGGAGTCCGTTGCT-1        AP1              gdT   \n",
       "\n",
       "                                                       organism   sex tissue  \\\n",
       "10_1038_s41591_021_01329_2-S11_GAGTCCGGTTCAGGCC-1  Homo sapiens  male  blood   \n",
       "10_1038_s41591_021_01329_2-S12_ACTGTCCTCTCGTATT-1  Homo sapiens  male  blood   \n",
       "10_1038_s41591_021_01329_2-S12_CTCTAATAGTTTCCTT-1  Homo sapiens  male  blood   \n",
       "10_1038_s41591_021_01329_2-S12_GCATACAGTAATCGTC-1  Homo sapiens  male  blood   \n",
       "10_1038_s41591_021_01329_2-S12_GACTGCGTCCTTTCGG-1  Homo sapiens  male  blood   \n",
       "10_1038_s41591_021_01329_2-S11_CAAGGCCAGGGATGGG-1  Homo sapiens  male  blood   \n",
       "10_1038_s41591_021_01329_2-S11_CGGTTAATCGGATGGA-1  Homo sapiens  male  blood   \n",
       "10_1038_s41591_021_01329_2-S11_GATCTAGTCACTATTC-1  Homo sapiens  male  blood   \n",
       "10_1038_s41591_021_01329_2-S11_CATGACAAGGTGCACA-1  Homo sapiens  male  blood   \n",
       "10_1038_s41591_021_01329_2-S12_CTCGGAGTCCGTTGCT-1  Homo sapiens  male  blood   \n",
       "\n",
       "                                                  ethnicity   disease  \\\n",
       "10_1038_s41591_021_01329_2-S11_GAGTCCGGTTCAGGCC-1   unknown  COVID-19   \n",
       "10_1038_s41591_021_01329_2-S12_ACTGTCCTCTCGTATT-1   unknown  COVID-19   \n",
       "10_1038_s41591_021_01329_2-S12_CTCTAATAGTTTCCTT-1   unknown  COVID-19   \n",
       "10_1038_s41591_021_01329_2-S12_GCATACAGTAATCGTC-1   unknown  COVID-19   \n",
       "10_1038_s41591_021_01329_2-S12_GACTGCGTCCTTTCGG-1   unknown  COVID-19   \n",
       "10_1038_s41591_021_01329_2-S11_CAAGGCCAGGGATGGG-1   unknown  COVID-19   \n",
       "10_1038_s41591_021_01329_2-S11_CGGTTAATCGGATGGA-1   unknown  COVID-19   \n",
       "10_1038_s41591_021_01329_2-S11_GATCTAGTCACTATTC-1   unknown  COVID-19   \n",
       "10_1038_s41591_021_01329_2-S11_CATGACAAGGTGCACA-1   unknown  COVID-19   \n",
       "10_1038_s41591_021_01329_2-S12_CTCGGAGTCCGTTGCT-1   unknown  COVID-19   \n",
       "\n",
       "                                                                            assay  \\\n",
       "10_1038_s41591_021_01329_2-S11_GAGTCCGGTTCAGGCC-1  10x 3' transcription profiling   \n",
       "10_1038_s41591_021_01329_2-S12_ACTGTCCTCTCGTATT-1  10x 3' transcription profiling   \n",
       "10_1038_s41591_021_01329_2-S12_CTCTAATAGTTTCCTT-1  10x 3' transcription profiling   \n",
       "10_1038_s41591_021_01329_2-S12_GCATACAGTAATCGTC-1  10x 3' transcription profiling   \n",
       "10_1038_s41591_021_01329_2-S12_GACTGCGTCCTTTCGG-1  10x 3' transcription profiling   \n",
       "10_1038_s41591_021_01329_2-S11_CAAGGCCAGGGATGGG-1  10x 3' transcription profiling   \n",
       "10_1038_s41591_021_01329_2-S11_CGGTTAATCGGATGGA-1  10x 3' transcription profiling   \n",
       "10_1038_s41591_021_01329_2-S11_GATCTAGTCACTATTC-1  10x 3' transcription profiling   \n",
       "10_1038_s41591_021_01329_2-S11_CATGACAAGGTGCACA-1  10x 3' transcription profiling   \n",
       "10_1038_s41591_021_01329_2-S12_CTCGGAGTCCGTTGCT-1  10x 3' transcription profiling   \n",
       "\n",
       "                                                                                           cell_type  \\\n",
       "10_1038_s41591_021_01329_2-S11_GAGTCCGGTTCAGGCC-1                           T follicular helper cell   \n",
       "10_1038_s41591_021_01329_2-S12_ACTGTCCTCTCGTATT-1     central memory CD4-positive, alpha-beta T cell   \n",
       "10_1038_s41591_021_01329_2-S12_CTCTAATAGTTTCCTT-1  CD16-positive, CD56-dim natural killer cell, h...   \n",
       "10_1038_s41591_021_01329_2-S12_GCATACAGTAATCGTC-1  naive thymus-derived CD8-positive, alpha-beta ...   \n",
       "10_1038_s41591_021_01329_2-S12_GACTGCGTCCTTTCGG-1  CD16-positive, CD56-dim natural killer cell, h...   \n",
       "10_1038_s41591_021_01329_2-S11_CAAGGCCAGGGATGGG-1                             CD14-positive monocyte   \n",
       "10_1038_s41591_021_01329_2-S11_CGGTTAATCGGATGGA-1    effector memory CD8-positive, alpha-beta T cell   \n",
       "10_1038_s41591_021_01329_2-S11_GATCTAGTCACTATTC-1                                       naive B cell   \n",
       "10_1038_s41591_021_01329_2-S11_CATGACAAGGTGCACA-1     central memory CD4-positive, alpha-beta T cell   \n",
       "10_1038_s41591_021_01329_2-S12_CTCGGAGTCCGTTGCT-1                                 gamma-delta T cell   \n",
       "\n",
       "                                                  dataset_group  \n",
       "10_1038_s41591_021_01329_2-S11_GAGTCCGGTTCAGGCC-1             P  \n",
       "10_1038_s41591_021_01329_2-S12_ACTGTCCTCTCGTATT-1             P  \n",
       "10_1038_s41591_021_01329_2-S12_CTCTAATAGTTTCCTT-1             P  \n",
       "10_1038_s41591_021_01329_2-S12_GCATACAGTAATCGTC-1             P  \n",
       "10_1038_s41591_021_01329_2-S12_GACTGCGTCCTTTCGG-1             P  \n",
       "10_1038_s41591_021_01329_2-S11_CAAGGCCAGGGATGGG-1             P  \n",
       "10_1038_s41591_021_01329_2-S11_CGGTTAATCGGATGGA-1             P  \n",
       "10_1038_s41591_021_01329_2-S11_GATCTAGTCACTATTC-1             P  \n",
       "10_1038_s41591_021_01329_2-S11_CATGACAAGGTGCACA-1             P  \n",
       "10_1038_s41591_021_01329_2-S12_CTCGGAGTCCGTTGCT-1             P  \n",
       "\n",
       "[10 rows x 21 columns]"
      ]
     },
     "execution_count": 3,
     "metadata": {},
     "output_type": "execute_result"
    }
   ],
   "source": [
    "adata.obs.head(10)  # viewing the first 10 rows of the observation metadata (cell-level)"
   ]
  },
  {
   "cell_type": "code",
   "execution_count": 4,
   "id": "5284e743",
   "metadata": {},
   "outputs": [
    {
     "data": {
      "application/vnd.microsoft.datawrangler.viewer.v0+json": {
       "columns": [
        {
         "name": "index",
         "rawType": "object",
         "type": "string"
        },
        {
         "name": "gene_id",
         "rawType": "category",
         "type": "unknown"
        },
        {
         "name": "gene_name",
         "rawType": "category",
         "type": "unknown"
        }
       ],
       "ref": "3d864092-3fe1-499e-8d7f-9cbda4857950",
       "rows": [
        [
         "FAM87B",
         "ENSG00000177757",
         "FAM87B"
        ],
        [
         "LINC00115",
         "ENSG00000225880",
         "LINC00115"
        ],
        [
         "FAM41C",
         "ENSG00000230368",
         "FAM41C"
        ],
        [
         "SAMD11",
         "ENSG00000187634",
         "SAMD11"
        ],
        [
         "NOC2L",
         "ENSG00000188976",
         "NOC2L"
        ],
        [
         "KLHL17",
         "ENSG00000187961",
         "KLHL17"
        ],
        [
         "PLEKHN1",
         "ENSG00000187583",
         "PLEKHN1"
        ],
        [
         "PERM1",
         "ENSG00000187642",
         "PERM1"
        ],
        [
         "HES4",
         "ENSG00000188290",
         "HES4"
        ],
        [
         "ISG15",
         "ENSG00000187608",
         "ISG15"
        ]
       ],
       "shape": {
        "columns": 2,
        "rows": 10
       }
      },
      "text/html": [
       "<div>\n",
       "<style scoped>\n",
       "    .dataframe tbody tr th:only-of-type {\n",
       "        vertical-align: middle;\n",
       "    }\n",
       "\n",
       "    .dataframe tbody tr th {\n",
       "        vertical-align: top;\n",
       "    }\n",
       "\n",
       "    .dataframe thead th {\n",
       "        text-align: right;\n",
       "    }\n",
       "</style>\n",
       "<table border=\"1\" class=\"dataframe\">\n",
       "  <thead>\n",
       "    <tr style=\"text-align: right;\">\n",
       "      <th></th>\n",
       "      <th>gene_id</th>\n",
       "      <th>gene_name</th>\n",
       "    </tr>\n",
       "  </thead>\n",
       "  <tbody>\n",
       "    <tr>\n",
       "      <th>FAM87B</th>\n",
       "      <td>ENSG00000177757</td>\n",
       "      <td>FAM87B</td>\n",
       "    </tr>\n",
       "    <tr>\n",
       "      <th>LINC00115</th>\n",
       "      <td>ENSG00000225880</td>\n",
       "      <td>LINC00115</td>\n",
       "    </tr>\n",
       "    <tr>\n",
       "      <th>FAM41C</th>\n",
       "      <td>ENSG00000230368</td>\n",
       "      <td>FAM41C</td>\n",
       "    </tr>\n",
       "    <tr>\n",
       "      <th>SAMD11</th>\n",
       "      <td>ENSG00000187634</td>\n",
       "      <td>SAMD11</td>\n",
       "    </tr>\n",
       "    <tr>\n",
       "      <th>NOC2L</th>\n",
       "      <td>ENSG00000188976</td>\n",
       "      <td>NOC2L</td>\n",
       "    </tr>\n",
       "    <tr>\n",
       "      <th>KLHL17</th>\n",
       "      <td>ENSG00000187961</td>\n",
       "      <td>KLHL17</td>\n",
       "    </tr>\n",
       "    <tr>\n",
       "      <th>PLEKHN1</th>\n",
       "      <td>ENSG00000187583</td>\n",
       "      <td>PLEKHN1</td>\n",
       "    </tr>\n",
       "    <tr>\n",
       "      <th>PERM1</th>\n",
       "      <td>ENSG00000187642</td>\n",
       "      <td>PERM1</td>\n",
       "    </tr>\n",
       "    <tr>\n",
       "      <th>HES4</th>\n",
       "      <td>ENSG00000188290</td>\n",
       "      <td>HES4</td>\n",
       "    </tr>\n",
       "    <tr>\n",
       "      <th>ISG15</th>\n",
       "      <td>ENSG00000187608</td>\n",
       "      <td>ISG15</td>\n",
       "    </tr>\n",
       "  </tbody>\n",
       "</table>\n",
       "</div>"
      ],
      "text/plain": [
       "                   gene_id  gene_name\n",
       "FAM87B     ENSG00000177757     FAM87B\n",
       "LINC00115  ENSG00000225880  LINC00115\n",
       "FAM41C     ENSG00000230368     FAM41C\n",
       "SAMD11     ENSG00000187634     SAMD11\n",
       "NOC2L      ENSG00000188976      NOC2L\n",
       "KLHL17     ENSG00000187961     KLHL17\n",
       "PLEKHN1    ENSG00000187583    PLEKHN1\n",
       "PERM1      ENSG00000187642      PERM1\n",
       "HES4       ENSG00000188290       HES4\n",
       "ISG15      ENSG00000187608      ISG15"
      ]
     },
     "execution_count": 4,
     "metadata": {},
     "output_type": "execute_result"
    }
   ],
   "source": [
    "adata.var.head(10)  # viewing the first 10 rows of the variable metadata (gene-level)"
   ]
  },
  {
   "cell_type": "markdown",
   "id": "e9d34b46",
   "metadata": {},
   "source": [
    "---"
   ]
  },
  {
   "cell_type": "markdown",
   "id": "6e3847d8",
   "metadata": {},
   "source": [
    "### 3.2 Preparing the *Stephenson 2021* dataset for scGen\n",
    "\n",
    "Key `.obs` columns you will use in this tutorial:\n",
    "| Column | Description |\n",
    "|--------|-------------|\n",
    "| `cell_type` | High-level cell type annotation (e.g. CD14⁺ monocyte, CD4⁺ T cell) |\n",
    "| `Status` | Experimental condition: control (untreated) or LPS (lipopolysaccharide-stimulated) |\n",
    "| `patient_id` | Patient identifier (useful for batch correction / cross-validation) | \n",
    "| `time_after_LPS` | Hours since LPS stimulation (continuous covariate) |"
   ]
  },
  {
   "cell_type": "code",
   "execution_count": 5,
   "id": "1d6d6c8e-41d8-43a2-94cf-55f30b6b4d49",
   "metadata": {},
   "outputs": [
    {
     "data": {
      "application/vnd.microsoft.datawrangler.viewer.v0+json": {
       "columns": [
        {
         "name": "Status",
         "rawType": "category",
         "type": "unknown"
        },
        {
         "name": "count",
         "rawType": "int64",
         "type": "integer"
        }
       ],
       "ref": "f1322c85-42b6-4312-83e1-bb4b5e8df5f5",
       "rows": [
        [
         "Covid",
         "48083"
        ],
        [
         "Healthy",
         "11790"
        ],
        [
         "LPS",
         "2636"
        ]
       ],
       "shape": {
        "columns": 1,
        "rows": 3
       }
      },
      "text/plain": [
       "Status\n",
       "Covid      48083\n",
       "Healthy    11790\n",
       "LPS         2636\n",
       "Name: count, dtype: int64"
      ]
     },
     "metadata": {},
     "output_type": "display_data"
    }
   ],
   "source": [
    "display(adata.obs['Status'].value_counts())  # counting the number of cells in each condition"
   ]
  },
  {
   "cell_type": "markdown",
   "id": "8e4e24f4",
   "metadata": {},
   "source": [
    "For the purpose of this tutorial, we will further downsample the dataset to 13,000 cells, which is a manageable size for training scGen on a standard laptop."
   ]
  },
  {
   "cell_type": "code",
   "execution_count": 6,
   "id": "0f9d7afa",
   "metadata": {},
   "outputs": [
    {
     "name": "stdout",
     "output_type": "stream",
     "text": [
      "Sampling plan:\n",
      " Status\n",
      "Covid      10000\n",
      "Healthy     2452\n",
      "LPS          548 \n",
      "\n"
     ]
    },
    {
     "data": {
      "application/vnd.microsoft.datawrangler.viewer.v0+json": {
       "columns": [
        {
         "name": "Status",
         "rawType": "category",
         "type": "unknown"
        },
        {
         "name": "count",
         "rawType": "int64",
         "type": "integer"
        }
       ],
       "ref": "43a1ef51-377e-4cd4-b0c4-34b2166f8e89",
       "rows": [
        [
         "Covid",
         "10000"
        ],
        [
         "Healthy",
         "2452"
        ],
        [
         "LPS",
         "548"
        ]
       ],
       "shape": {
        "columns": 1,
        "rows": 3
       }
      },
      "text/plain": [
       "Status\n",
       "Covid      10000\n",
       "Healthy     2452\n",
       "LPS          548\n",
       "Name: count, dtype: int64"
      ]
     },
     "metadata": {},
     "output_type": "display_data"
    },
    {
     "name": "stdout",
     "output_type": "stream",
     "text": [
      "\n",
      "Final shape: 13,000 cells × 16,299 genes\n"
     ]
    }
   ],
   "source": [
    "# ------------------------------------------------------------------\n",
    "# Sub-sample to 13 000 cells while preserving the Status proportions\n",
    "# ------------------------------------------------------------------\n",
    "target_total = 13_000                     # final size\n",
    "status_col   = \"Status\"                   # column with the class labels\n",
    "rng          = SEED                       # for reproducibility\n",
    "\n",
    "# 1) Desired sample size per class (rounded)\n",
    "status_counts  = adata.obs[status_col].value_counts()\n",
    "target_counts  = (\n",
    "    (status_counts / status_counts.sum()) * target_total\n",
    ").round().astype(int)\n",
    "\n",
    "# 2) Make sure rounding still sums to target_total\n",
    "diff = target_total - target_counts.sum()\n",
    "if diff != 0:                        # add/subtract the remainder to the largest class\n",
    "    largest = target_counts.idxmax()\n",
    "    target_counts[largest] += diff\n",
    "\n",
    "print(\"Sampling plan:\\n\", target_counts.to_string(), \"\\n\")\n",
    "\n",
    "# 3) Collect indices stratified by Status\n",
    "idx_list = []\n",
    "for status, n in target_counts.items():\n",
    "    idx = (\n",
    "        adata.obs.query(f\"{status_col} == @status\")\n",
    "        .sample(n, random_state=rng)\n",
    "        .index\n",
    "    )\n",
    "    idx_list.append(idx)\n",
    "\n",
    "subset_idx = np.concatenate(idx_list)\n",
    "\n",
    "# 4) Create the down-sampled AnnData object\n",
    "adata_sub = adata[subset_idx].copy()\n",
    "\n",
    "# 5) Sanity-check the new distribution\n",
    "display(adata_sub.obs[status_col].value_counts())\n",
    "\n",
    "print(f\"\\nFinal shape: {adata_sub.n_obs:,} cells × {adata_sub.n_vars:,} genes\")"
   ]
  },
  {
   "cell_type": "markdown",
   "id": "d2204400-4357-498a-88b0-1f27852154b1",
   "metadata": {},
   "source": [
    "For this tutorial, we will focus on the `Status` column to compare **control vs LPS-stimulated cells** and figure out how well scGen can predict the transcriptional changes induced by LPS treatment."
   ]
  },
  {
   "cell_type": "code",
   "execution_count": 7,
   "id": "0c1aacf8-7130-494a-82d2-2a3424a89e6a",
   "metadata": {},
   "outputs": [
    {
     "data": {
      "text/plain": [
       "View of AnnData object with n_obs × n_vars = 3000 × 16299\n",
       "    obs: 'Collection_Day', 'Swab_result', 'Status', 'Smoker', 'Status_on_day_collection', 'Status_on_day_collection_summary', 'Days_from_onset', 'Site', 'time_after_LPS', 'Worst_Clinical_Status', 'Outcome', 'patient_id', 'author_cell_type', 'organism', 'sex', 'tissue', 'ethnicity', 'disease', 'assay', 'cell_type', 'dataset_group'\n",
       "    var: 'gene_id', 'gene_name'\n",
       "    uns: 'log1p', 'umap'\n",
       "    obsm: 'X_scVI', 'X_umap'"
      ]
     },
     "execution_count": 7,
     "metadata": {},
     "output_type": "execute_result"
    }
   ],
   "source": [
    "norm_data = adata_sub[adata_sub.obs[\"Status\"] != \"Covid\"] # filtering out COVID cells\n",
    "\n",
    "norm_data # viewing the normal data (non-COVID cells)"
   ]
  },
  {
   "cell_type": "code",
   "execution_count": 8,
   "id": "bdc769f6",
   "metadata": {},
   "outputs": [
    {
     "data": {
      "application/vnd.microsoft.datawrangler.viewer.v0+json": {
       "columns": [
        {
         "name": "Status",
         "rawType": "category",
         "type": "unknown"
        },
        {
         "name": "count",
         "rawType": "int64",
         "type": "integer"
        }
       ],
       "ref": "8de6184c-2e38-417f-a2ee-7a177362b76b",
       "rows": [
        [
         "Healthy",
         "2452"
        ],
        [
         "LPS",
         "548"
        ]
       ],
       "shape": {
        "columns": 1,
        "rows": 2
       }
      },
      "text/plain": [
       "Status\n",
       "Healthy    2452\n",
       "LPS         548\n",
       "Name: count, dtype: int64"
      ]
     },
     "metadata": {},
     "output_type": "display_data"
    }
   ],
   "source": [
    "display(norm_data.obs['Status'].value_counts())  # counting the number of cells per status in the normal data"
   ]
  },
  {
   "cell_type": "markdown",
   "id": "07398908",
   "metadata": {},
   "source": [
    "We then create a subset of our subsampled dataset that contains only the top 5 most abundant cell types, which will help us focus on the most relevant biological signals and reduce computational complexity."
   ]
  },
  {
   "cell_type": "code",
   "execution_count": 9,
   "id": "f7049d7e-6dc8-4475-af0e-017284d8cff2",
   "metadata": {},
   "outputs": [
    {
     "name": "stdout",
     "output_type": "stream",
     "text": [
      "Kept cell counts:\n"
     ]
    },
    {
     "data": {
      "application/vnd.microsoft.datawrangler.viewer.v0+json": {
       "columns": [
        {
         "name": "cell_type",
         "rawType": "category",
         "type": "unknown"
        },
        {
         "name": "count",
         "rawType": "int64",
         "type": "integer"
        }
       ],
       "ref": "869b20e7-5e76-4d2e-b84d-11d1f601cd07",
       "rows": [
        [
         "CD16-positive, CD56-dim natural killer cell, human",
         "445"
        ],
        [
         "naive thymus-derived CD4-positive, alpha-beta T cell",
         "370"
        ],
        [
         "naive B cell",
         "274"
        ],
        [
         "CD14-positive monocyte",
         "252"
        ],
        [
         "naive thymus-derived CD8-positive, alpha-beta T cell",
         "247"
        ]
       ],
       "shape": {
        "columns": 1,
        "rows": 5
       }
      },
      "text/plain": [
       "cell_type\n",
       "CD16-positive, CD56-dim natural killer cell, human      445\n",
       "naive thymus-derived CD4-positive, alpha-beta T cell    370\n",
       "naive B cell                                            274\n",
       "CD14-positive monocyte                                  252\n",
       "naive thymus-derived CD8-positive, alpha-beta T cell    247\n",
       "Name: count, dtype: int64"
      ]
     },
     "metadata": {},
     "output_type": "display_data"
    }
   ],
   "source": [
    "# 1) Subset to top-5 cell types\n",
    "counts = norm_data.obs[\"cell_type\"].value_counts()\n",
    "top5   = counts.head(5).index.tolist()\n",
    "\n",
    "# 2) Subset the AnnData\n",
    "norm_data_qc = norm_data[norm_data.obs[\"cell_type\"].isin(top5)].copy()\n",
    "\n",
    "# 3) Verify\n",
    "print(\"Kept cell counts:\")\n",
    "display(norm_data_qc.obs[\"cell_type\"].value_counts())"
   ]
  },
  {
   "cell_type": "code",
   "execution_count": 10,
   "id": "c3593c95",
   "metadata": {},
   "outputs": [
    {
     "data": {
      "application/vnd.microsoft.datawrangler.viewer.v0+json": {
       "columns": [
        {
         "name": "Status",
         "rawType": "category",
         "type": "unknown"
        },
        {
         "name": "count",
         "rawType": "int64",
         "type": "integer"
        }
       ],
       "ref": "4b60ae8f-8940-4f81-ad80-cc12e5a0c17a",
       "rows": [
        [
         "Healthy",
         "1229"
        ],
        [
         "LPS",
         "359"
        ]
       ],
       "shape": {
        "columns": 1,
        "rows": 2
       }
      },
      "text/plain": [
       "Status\n",
       "Healthy    1229\n",
       "LPS         359\n",
       "Name: count, dtype: int64"
      ]
     },
     "metadata": {},
     "output_type": "display_data"
    }
   ],
   "source": [
    "display(norm_data_qc.obs['Status'].value_counts()) # counting the number of cells per status in the normal data after QC"
   ]
  },
  {
   "cell_type": "markdown",
   "id": "94c73f20",
   "metadata": {},
   "source": [
    "We then proceed to filter out low-quality cells based on the number of genes expressed and the total counts, ensuring that we retain only high-quality cells for training.\n",
    "\n",
    "Finally, we will normalise the data using logCPM (counts per million) and select the top 2,000 highly variable genes (HVGs) to speed up training and focus on the most informative features."
   ]
  },
  {
   "cell_type": "code",
   "execution_count": 11,
   "id": "da41aee8-10e2-4c4f-bfa3-0c5eb68e2b32",
   "metadata": {},
   "outputs": [
    {
     "data": {
      "text/plain": [
       "AnnData object with n_obs × n_vars = 1588 × 2000\n",
       "    obs: 'Collection_Day', 'Swab_result', 'Status', 'Smoker', 'Status_on_day_collection', 'Status_on_day_collection_summary', 'Days_from_onset', 'Site', 'time_after_LPS', 'Worst_Clinical_Status', 'Outcome', 'patient_id', 'author_cell_type', 'organism', 'sex', 'tissue', 'ethnicity', 'disease', 'assay', 'cell_type', 'dataset_group'\n",
       "    var: 'gene_id', 'gene_name', 'highly_variable', 'means', 'dispersions', 'dispersions_norm'\n",
       "    uns: 'log1p', 'umap', 'hvg'\n",
       "    obsm: 'X_scVI', 'X_umap'"
      ]
     },
     "execution_count": 11,
     "metadata": {},
     "output_type": "execute_result"
    }
   ],
   "source": [
    "norm_data_qc_hvg = norm_data_qc.copy() # creating a copy of the AnnData object for highly variable genes (HVG) analysis\n",
    "\n",
    "\n",
    "sc.pp.highly_variable_genes(\n",
    "    norm_data_qc_hvg,\n",
    "    n_top_genes=2000,\n",
    "    flavor=\"seurat\",\n",
    "    subset=True\n",
    ")\n",
    "\n",
    "norm_data_qc_hvg # viewing the AnnData object after HVG selection"
   ]
  },
  {
   "cell_type": "markdown",
   "id": "17aaee11",
   "metadata": {},
   "source": [
    "We can also plot the UMAP of the filtered dataset to visualise the cell types and their distribution in the latent space."
   ]
  },
  {
   "cell_type": "code",
   "execution_count": 12,
   "id": "5c07b6fd-f685-4fa0-83ca-c71f277eec6c",
   "metadata": {},
   "outputs": [
    {
     "data": {
      "image/png": "[encoded data removed]",
      "text/plain": [
       "<Figure size 640x480 with 1 Axes>"
      ]
     },
     "metadata": {},
     "output_type": "display_data"
    }
   ],
   "source": [
    "sc.pl.umap(norm_data_qc_hvg, color = \"cell_type\")"
   ]
  },
  {
   "cell_type": "code",
   "execution_count": 13,
   "id": "22c3d841",
   "metadata": {},
   "outputs": [
    {
     "data": {
      "image/png": "[encoded data removed]",
      "text/plain": [
       "<Figure size 640x480 with 1 Axes>"
      ]
     },
     "metadata": {},
     "output_type": "display_data"
    }
   ],
   "source": [
    "sc.pl.umap(norm_data_qc_hvg, color = \"Status\")"
   ]
  },
  {
   "cell_type": "markdown",
   "id": "0cc1c266-2ff4-4e99-8d63-193bc1718f7d",
   "metadata": {},
   "source": [
    "Finally, before proceeding with the training, we will rename the `.obs` columns to match the expected format for scGen:\n",
    "* The 'Status' column will be renamed to 'label', where:\n",
    "  * Control cells will be designated as \"ctrl\"\n",
    "  * LPS-stimulated cells will be designated as \"stim\""
   ]
  },
  {
   "cell_type": "code",
   "execution_count": 14,
   "id": "35f578f0-a90d-40bc-95fb-e17a97fd18d4",
   "metadata": {},
   "outputs": [
    {
     "data": {
      "text/plain": [
       "AnnData object with n_obs × n_vars = 1588 × 2000\n",
       "    obs: 'Collection_Day', 'Swab_result', 'label', 'Smoker', 'Status_on_day_collection', 'Status_on_day_collection_summary', 'Days_from_onset', 'Site', 'time_after_LPS', 'Worst_Clinical_Status', 'Outcome', 'patient_id', 'author_cell_type', 'organism', 'sex', 'tissue', 'ethnicity', 'disease', 'assay', 'cell_type', 'dataset_group'\n",
       "    var: 'gene_id', 'gene_name', 'highly_variable', 'means', 'dispersions', 'dispersions_norm'\n",
       "    uns: 'log1p', 'umap', 'hvg', 'cell_type_colors', 'Status_colors'\n",
       "    obsm: 'X_scVI', 'X_umap'"
      ]
     },
     "execution_count": 14,
     "metadata": {},
     "output_type": "execute_result"
    }
   ],
   "source": [
    "# Perturbation column\n",
    "norm_data_qc_hvg.obs.rename(columns={\"Status\": \"label\"}, inplace=True)\n",
    "\n",
    "norm_data_qc_hvg"
   ]
  },
  {
   "cell_type": "code",
   "execution_count": 15,
   "id": "b6b6e536",
   "metadata": {},
   "outputs": [
    {
     "data": {
      "application/vnd.microsoft.datawrangler.viewer.v0+json": {
       "columns": [
        {
         "name": "label",
         "rawType": "category",
         "type": "unknown"
        },
        {
         "name": "count",
         "rawType": "int64",
         "type": "integer"
        }
       ],
       "ref": "123b22e4-76b3-4e72-a7ea-c366e36ce89a",
       "rows": [
        [
         "ctrl",
         "1229"
        ],
        [
         "stim",
         "359"
        ]
       ],
       "shape": {
        "columns": 1,
        "rows": 2
       }
      },
      "text/plain": [
       "label\n",
       "ctrl    1229\n",
       "stim     359\n",
       "Name: count, dtype: int64"
      ]
     },
     "metadata": {},
     "output_type": "display_data"
    }
   ],
   "source": [
    "# Change the name of control and perturbed cells\n",
    "norm_data_qc_hvg.obs[\"label\"] = norm_data_qc_hvg.obs[\"label\"].cat.rename_categories({\"Healthy\": \"ctrl\", \"LPS\": \"stim\"})\n",
    "\n",
    "display(norm_data_qc_hvg.obs[\"label\"].value_counts())  # counting the number of cells per label"
   ]
  },
  {
   "cell_type": "markdown",
   "id": "8d986f60",
   "metadata": {},
   "source": [
    "---"
   ]
  },
  {
   "cell_type": "markdown",
   "id": "8506dbdd-2392-488b-8d54-b1d93e5cf71c",
   "metadata": {},
   "source": [
    "## 4. Training & Evaluation with scGen\n",
    "\n",
    "In this section we:\n",
    "1. configure global hyper-parameters and choose CPU/GPU,\n",
    "2. define the helper functions used across metrics,\n",
    "3. wrap training + prediction for a single cell-type in a reusable function,\n",
    "4. loop over cell-types and gene-sets (all genes vs top K DEGs),\n",
    "5. collect results and draw a summary dashboard.\n"
   ]
  },
  {
   "cell_type": "code",
   "execution_count": 16,
   "id": "854bd1f7",
   "metadata": {},
   "outputs": [
    {
     "name": "stdout",
     "output_type": "stream",
     "text": [
      "Running on CPU – no CUDA device\n"
     ]
    }
   ],
   "source": [
    "# ── Device & run-time options ────────────────────────────────────────────\n",
    "cuda_available = torch.cuda.is_available()\n",
    "device = torch.device(\"cuda:0\" if cuda_available else \"cpu\")\n",
    "print(f\"Running on {'GPU' if cuda_available else 'CPU'} – \"\n",
    "      f\"{torch.cuda.get_device_name(0) if cuda_available else 'no CUDA device'}\")\n",
    "\n",
    "# ── Hyper-parameter options ──────────────────────────\n",
    "n_epochs        = 10 #100\n",
    "batch_size      = 32 \n",
    "K_DEGS          = 100          # top-K genes for DE overlap\n",
    "pca_components  = 30\n",
    "ctrl_key, stim_key = \"ctrl\", \"stim\"\n",
    "condition_col, celltype_col = \"label\", \"cell_type\"\n",
    "\n",
    "GENE_SETS = [(\"all_genes\", None),          # None  = use all genes\n",
    "             (f\"top {K_DEGS} DEGs\", K_DEGS)]\n"
   ]
  },
  {
   "cell_type": "code",
   "execution_count": 17,
   "id": "74ac7f8a",
   "metadata": {},
   "outputs": [],
   "source": [
    "# ======================================================================\n",
    "# Metrics & utilities\n",
    "# ======================================================================\n",
    "\n",
    "def mean_var_kde_distance(X1, X2, bandwidth=1.0, grid_size=50):\n",
    "    \"\"\"L1 distance between mean–variance KDEs; returns NaN if no valid genes.\"\"\"\n",
    "    m1, v1 = X1.mean(0), X1.var(0)\n",
    "    m2, v2 = X2.mean(0), X2.var(0)\n",
    "    pts1, pts2 = np.column_stack([m1, v1]), np.column_stack([m2, v2])\n",
    "\n",
    "    # ── NEW guard against NaNs ─────────────────────────────\n",
    "    nan_mask = ~(np.isnan(pts1).any(1) | np.isnan(pts2).any(1))\n",
    "    pts1, pts2 = pts1[nan_mask], pts2[nan_mask]\n",
    "    if pts1.shape[0] == 0 or pts2.shape[0] == 0:\n",
    "        return np.nan\n",
    "    # -------------------------------------------------------\n",
    "\n",
    "    mins = np.minimum(pts1.min(0), pts2.min(0))\n",
    "    maxs = np.maximum(pts1.max(0), pts2.max(0))\n",
    "    xs = np.linspace(mins[0], maxs[0], grid_size)\n",
    "    ys = np.linspace(mins[1], maxs[1], grid_size)\n",
    "    grid = np.column_stack(np.meshgrid(xs, ys)).reshape(-1, 2)\n",
    "\n",
    "    kde1 = KernelDensity(kernel=\"gaussian\", bandwidth=bandwidth).fit(pts1)\n",
    "    kde2 = KernelDensity(kernel=\"gaussian\", bandwidth=bandwidth).fit(pts2)\n",
    "\n",
    "    d1 = np.exp(kde1.score_samples(grid))\n",
    "    d2 = np.exp(kde2.score_samples(grid))\n",
    "    dx, dy = xs[1]-xs[0], ys[1]-ys[0]\n",
    "    return float(np.abs(d1 - d2).sum() * dx * dy)\n",
    "\n",
    "\n",
    "\n",
    "def bootstrap_metrics(X, real_mask, pred_mask, pca_coords,\n",
    "                      n_boot=200, frac=0.8, seed=0, sigma=1.0):\n",
    "    \"\"\"Bootstrap a panel of bulk-level error metrics.\"\"\"\n",
    "    if real_mask.sum() == 0 or pred_mask.sum() == 0:\n",
    "        return {f\"{k}_{s}\": np.nan for k in\n",
    "                [\"R2\",\"MSE\",\"RMSE\",\"MAE\",\"L2\",\"Pearson\",\"Cosine\",\"Edist\",\"MMD\",\"Euc\"]\n",
    "                for s in (\"mean\",\"std\")}\n",
    "\n",
    "    rng = np.random.default_rng(seed)\n",
    "    r_idx, p_idx = np.where(real_mask)[0], np.where(pred_mask)[0]\n",
    "    s_r, s_p = max(1, int(frac*len(r_idx))), max(1, int(frac*len(p_idx)))\n",
    "\n",
    "    keys  = [\"R2\",\"MSE\",\"RMSE\",\"MAE\",\"L2\",\"Pearson\",\"Cosine\",\"Edist\",\"MMD\",\"Euc\"]\n",
    "    store = {k: [] for k in keys}\n",
    "\n",
    "    for _ in range(n_boot):\n",
    "        r = rng.choice(r_idx, s_r, replace=True)\n",
    "        p = rng.choice(p_idx, s_p, replace=True)\n",
    "        Y, Xp = X[r].mean(0), X[p].mean(0)\n",
    "        d     = Xp - Y\n",
    "\n",
    "        store[\"MSE\"].append(np.mean(d**2))\n",
    "        store[\"RMSE\"].append(np.sqrt(np.mean(d**2)))\n",
    "        store[\"MAE\"].append(np.mean(np.abs(d)))\n",
    "        store[\"L2\"].append(np.linalg.norm(d))\n",
    "        store[\"Pearson\"].append(stats.pearsonr(Xp, Y)[0])\n",
    "        store[\"Cosine\"].append(1 - cosine_dist(Xp, Y))\n",
    "\n",
    "        ss_res = ((Y - Xp)**2).sum(); ss_tot = ((Y - Y.mean())**2).sum()\n",
    "        store[\"R2\"].append(1 - ss_res/ss_tot if ss_tot>0 else np.nan)\n",
    "\n",
    "        Pr, Pp = pca_coords[r], pca_coords[p]\n",
    "        store[\"Euc\"].append(np.linalg.norm(Pr.mean(0) - Pp.mean(0)))\n",
    "\n",
    "        d_rr = pairwise_distances(Pr, Pr); d_pp = pairwise_distances(Pp, Pp)\n",
    "        d_rp = pairwise_distances(Pr, Pp)\n",
    "        store[\"Edist\"].append(2*d_rp.mean() - d_rr.mean() - d_pp.mean())\n",
    "\n",
    "        Krr = np.exp(-cdist(Pr, Pr,'sqeuclidean')/(2*sigma**2))\n",
    "        Kpp = np.exp(-cdist(Pp, Pp,'sqeuclidean')/(2*sigma**2))\n",
    "        Krp = np.exp(-cdist(Pr, Pp,'sqeuclidean')/(2*sigma**2))\n",
    "        store[\"MMD\"].append(Krr.mean() + Kpp.mean() - 2*Krp.mean())\n",
    "\n",
    "    out = {}\n",
    "    for k,v in store.items():\n",
    "        out[f\"{k}_mean\"] = float(np.nanmean(v))\n",
    "        out[f\"{k}_std\"]  = float(np.nanstd(v))\n",
    "    return out\n",
    "\n",
    "def compute_dist_scaled(X, ctrl_m, stim_m, pred_m, eps=1e-8):\n",
    "    \"\"\"Scaled Euclidean distance (pred-vs-stim)/(ctrl-vs-stim).\"\"\"\n",
    "    m0, m1, m2 = X[ctrl_m].mean(0), X[stim_m].mean(0), X[pred_m].mean(0)\n",
    "    ok = ~(np.isnan(m0)|np.isnan(m1)|np.isnan(m2))\n",
    "    return np.linalg.norm(m2[ok]-m1[ok]) / (np.linalg.norm(m0[ok]-m1[ok]) + eps)"
   ]
  },
  {
   "cell_type": "code",
   "execution_count": 18,
   "id": "00ce8abf",
   "metadata": {},
   "outputs": [],
   "source": [
    "def run_scgen_for_celltype(\n",
    "    adata, celltype,\n",
    "    n_genes=None, device=torch.device(\"cpu\"),\n",
    "    epochs=10, batch_size=32,\n",
    "    pca_dim=30\n",
    "):\n",
    "    # 1) build training set\n",
    "    train_adata = adata[~(\n",
    "        (adata.obs[\"cell_type\"] == celltype) &\n",
    "        (adata.obs[\"label\"]     == \"stim\")\n",
    "    )].copy()\n",
    "\n",
    "    if n_genes:\n",
    "        sc.pp.highly_variable_genes(train_adata, n_top_genes=n_genes,\n",
    "                                    flavor=\"seurat_v3\", subset=True)\n",
    "\n",
    "    # 2) set up & train scGEN\n",
    "    pt.tl.Scgen.setup_anndata(train_adata,\n",
    "                              batch_key=\"label\",\n",
    "                              labels_key=\"cell_type\")\n",
    "\n",
    "    model = pt.tl.Scgen(train_adata)\n",
    "    model.train(\n",
    "        max_epochs     = epochs,\n",
    "        batch_size     = batch_size,\n",
    "        early_stopping = True,\n",
    "        accelerator    = (\"gpu\" if device.type == \"cuda\" else \"cpu\"),\n",
    "        devices        = 1\n",
    "    )\n",
    "\n",
    "    # 3) predict held-out cell-type\n",
    "    pred, _ = model.predict(\n",
    "        ctrl_key=\"ctrl\", stim_key=\"stim\",\n",
    "        celltype_to_predict=celltype\n",
    "    )\n",
    "    pred.obs[\"label\"] = \"pred\"\n",
    "\n",
    "    # 4) evaluation AnnData\n",
    "    ctrl = adata[(adata.obs[\"cell_type\"]==celltype)&(adata.obs[\"label\"]==\"ctrl\")]\n",
    "    stim = adata[(adata.obs[\"cell_type\"]==celltype)&(adata.obs[\"label\"]==\"stim\")]\n",
    "    eval_ad = ctrl.concatenate(stim, pred)\n",
    "    eval_ad.obs[\"label\"] = eval_ad.obs[\"label\"].astype(\"category\")\n",
    "\n",
    "    sc.tl.pca(eval_ad, n_comps=pca_dim, svd_solver=\"arpack\")\n",
    "    return eval_ad"
   ]
  },
  {
   "cell_type": "markdown",
   "id": "05debbaf",
   "metadata": {},
   "source": [
    "### 4.1. Loop over cell-types and gene-sets  \n",
    "\n",
    "We now iterate:\n",
    "* each **cell-type** present in the dataset  \n",
    "* two **gene sets** – all genes vs top 100 DEGs  \n",
    "For every combination we call `run_scgen_for_celltype`, compute metrics, and store a row in `results_df`.\n"
   ]
  },
  {
   "cell_type": "code",
   "execution_count": null,
   "id": "f7a898aa",
   "metadata": {},
   "outputs": [],
   "source": [
    "results = []\n",
    "common_celltypes = norm_data_qc_hvg.obs[celltype_col].unique()\n",
    "\n",
    "for gene_label, topN in GENE_SETS:\n",
    "    for ct in common_celltypes:\n",
    "        eval_ad = run_scgen_for_celltype(\n",
    "            norm_data_qc_hvg, ct,\n",
    "            n_genes=topN, device=device,\n",
    "            epochs=n_epochs, batch_size=batch_size\n",
    "        )\n",
    "\n",
    "        # masks & matrices\n",
    "        X      = eval_ad.X.A if sparse.issparse(eval_ad.X) else eval_ad.X\n",
    "        X_pca  = eval_ad.obsm[\"X_pca\"]\n",
    "        ctrl_m = eval_ad.obs[condition_col]==ctrl_key\n",
    "        stim_m = eval_ad.obs[condition_col]==stim_key\n",
    "        pred_m = eval_ad.obs[condition_col]==\"pred\"\n",
    "\n",
    "        boot = bootstrap_metrics(X, stim_m, pred_m, X_pca)\n",
    "        row  = {\n",
    "            \"cell_type\": ct,\n",
    "            \"gene_set\":  gene_label,\n",
    "            \"dist_scaled\": compute_dist_scaled(X, ctrl_m, stim_m, pred_m),\n",
    "            \"mean_var_dist\": mean_var_kde_distance(X[stim_m], X[pred_m]),\n",
    "            **boot\n",
    "        }\n",
    "\n",
    "        # DE-specific metrics only for top-K set\n",
    "        if gene_label.startswith(\"top\"):\n",
    "            sc.tl.rank_genes_groups(eval_ad, groupby=condition_col,\n",
    "                                    reference=ctrl_key, groups=[stim_key,\"pred\"],\n",
    "                                    method=\"wilcoxon\", n_genes=eval_ad.n_vars)\n",
    "            true_top = eval_ad.uns[\"rank_genes_groups\"][\"names\"][stim_key][:K_DEGS]\n",
    "            pred_top = eval_ad.uns[\"rank_genes_groups\"][\"names\"][\"pred\"][:K_DEGS]\n",
    "            shared   = set(true_top) & set(pred_top)\n",
    "            row[\"jaccard_topK\"] = len(shared)/(2*K_DEGS-len(shared))\n",
    "        results.append(row)\n",
    "\n",
    "results_df = pd.DataFrame(results)\n",
    "display(results_df.head())"
   ]
  },
  {
   "cell_type": "markdown",
   "id": "d14bd503",
   "metadata": {},
   "source": [
    "### 4.2. Metric summary plots  \n",
    "The next cell draws a grid of bar-plots (mean ± SD) for every metric across cell-types."
   ]
  },
  {
   "cell_type": "code",
   "execution_count": null,
   "id": "3e479659",
   "metadata": {},
   "outputs": [],
   "source": [
    "METRICS_TO_PLOT = [\n",
    "    (\"R2_mean\",\"R2_std\"), (\"MSE_mean\",\"MSE_std\"), (\"Pearson_mean\",\"Pearson_std\"),\n",
    "    (\"dist_scaled\",None), (\"mean_var_dist\",None), (\"jaccard_topK\",None)\n",
    "]\n",
    "\n",
    "cell_types = results_df[\"cell_type\"].unique()\n",
    "gene_sets  = results_df[\"gene_set\"].unique()\n",
    "n = len(METRICS_TO_PLOT)\n",
    "ncols = 3\n",
    "fig, axes = plt.subplots(int(np.ceil(n/ncols)), ncols, figsize=(5*ncols,4*n), squeeze=False)\n",
    "axes = axes.ravel()\n",
    "\n",
    "for ax, (mean_col, std_col) in zip(axes, METRICS_TO_PLOT):\n",
    "    for i, gs in enumerate(gene_sets):\n",
    "        subset = results_df[results_df[\"gene_set\"]==gs].set_index(\"cell_type\")\n",
    "        means  = subset[mean_col].reindex(cell_types)\n",
    "        errs   = subset[std_col].reindex(cell_types) if std_col else None\n",
    "        x = np.arange(len(cell_types)) + i*0.35\n",
    "        ax.bar(x, means, 0.35, yerr=errs if errs is not None else None,\n",
    "               capsize=3, label=gs)\n",
    "    ax.set_xticks(np.arange(len(cell_types)) + 0.35*(len(gene_sets)-1)/2)\n",
    "    ax.set_xticklabels(cell_types, rotation=45, ha=\"right\")\n",
    "    ax.set_title(mean_col.replace(\"_mean\",\"\"))\n",
    "    \n",
    "fig.legend(bbox_to_anchor=(1.02,0.5), loc=\"center left\", title=\"Gene set\")\n",
    "fig.tight_layout(rect=[0,0,0.85,1])\n",
    "plt.show()"
   ]
  }
 ],
 "metadata": {
  "kernelspec": {
   "display_name": "MLiCB",
   "language": "python",
   "name": "python3"
  },
  "language_info": {
   "codemirror_mode": {
    "name": "ipython",
    "version": 3
   },
   "file_extension": ".py",
   "mimetype": "text/x-python",
   "name": "python",
   "nbconvert_exporter": "python",
   "pygments_lexer": "ipython3",
   "version": "3.12.2"
  }
 },
 "nbformat": 4,
 "nbformat_minor": 5
}
